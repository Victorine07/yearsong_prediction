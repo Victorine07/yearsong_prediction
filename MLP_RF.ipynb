{
 "cells": [
  {
   "cell_type": "code",
   "execution_count": null,
   "metadata": {},
   "outputs": [],
   "source": []
  },
  {
   "cell_type": "code",
   "execution_count": null,
   "metadata": {},
   "outputs": [],
   "source": []
  },
  {
   "cell_type": "code",
   "execution_count": 1,
   "metadata": {},
   "outputs": [
    {
     "data": {
      "text/html": [
       "<div>\n",
       "<style scoped>\n",
       "    .dataframe tbody tr th:only-of-type {\n",
       "        vertical-align: middle;\n",
       "    }\n",
       "\n",
       "    .dataframe tbody tr th {\n",
       "        vertical-align: top;\n",
       "    }\n",
       "\n",
       "    .dataframe thead th {\n",
       "        text-align: right;\n",
       "    }\n",
       "</style>\n",
       "<table border=\"1\" class=\"dataframe\">\n",
       "  <thead>\n",
       "    <tr style=\"text-align: right;\">\n",
       "      <th></th>\n",
       "      <th>t1</th>\n",
       "      <th>t2</th>\n",
       "      <th>t3</th>\n",
       "      <th>t4</th>\n",
       "      <th>t5</th>\n",
       "      <th>t6</th>\n",
       "      <th>t7</th>\n",
       "      <th>t8</th>\n",
       "      <th>t9</th>\n",
       "      <th>t10</th>\n",
       "      <th>...</th>\n",
       "      <th>t82</th>\n",
       "      <th>t83</th>\n",
       "      <th>t84</th>\n",
       "      <th>t85</th>\n",
       "      <th>t86</th>\n",
       "      <th>t87</th>\n",
       "      <th>t88</th>\n",
       "      <th>t89</th>\n",
       "      <th>t90</th>\n",
       "      <th>year</th>\n",
       "    </tr>\n",
       "  </thead>\n",
       "  <tbody>\n",
       "    <tr>\n",
       "      <th>0</th>\n",
       "      <td>0.185014</td>\n",
       "      <td>0.184660</td>\n",
       "      <td>0.185301</td>\n",
       "      <td>0.184503</td>\n",
       "      <td>0.184178</td>\n",
       "      <td>0.184232</td>\n",
       "      <td>0.184084</td>\n",
       "      <td>0.184242</td>\n",
       "      <td>0.184491</td>\n",
       "      <td>0.184363</td>\n",
       "      <td>...</td>\n",
       "      <td>0.183719</td>\n",
       "      <td>0.185126</td>\n",
       "      <td>0.184585</td>\n",
       "      <td>0.184408</td>\n",
       "      <td>0.184108</td>\n",
       "      <td>0.185243</td>\n",
       "      <td>0.184371</td>\n",
       "      <td>0.184053</td>\n",
       "      <td>0.184422</td>\n",
       "      <td>79</td>\n",
       "    </tr>\n",
       "    <tr>\n",
       "      <th>1</th>\n",
       "      <td>0.184999</td>\n",
       "      <td>0.184623</td>\n",
       "      <td>0.185267</td>\n",
       "      <td>0.184555</td>\n",
       "      <td>0.184266</td>\n",
       "      <td>0.184086</td>\n",
       "      <td>0.184503</td>\n",
       "      <td>0.184383</td>\n",
       "      <td>0.184627</td>\n",
       "      <td>0.184451</td>\n",
       "      <td>...</td>\n",
       "      <td>0.184150</td>\n",
       "      <td>0.184804</td>\n",
       "      <td>0.184926</td>\n",
       "      <td>0.184271</td>\n",
       "      <td>0.183994</td>\n",
       "      <td>0.185269</td>\n",
       "      <td>0.184544</td>\n",
       "      <td>0.185119</td>\n",
       "      <td>0.184728</td>\n",
       "      <td>79</td>\n",
       "    </tr>\n",
       "    <tr>\n",
       "      <th>2</th>\n",
       "      <td>0.185026</td>\n",
       "      <td>0.184789</td>\n",
       "      <td>0.185087</td>\n",
       "      <td>0.184561</td>\n",
       "      <td>0.184312</td>\n",
       "      <td>0.184164</td>\n",
       "      <td>0.184353</td>\n",
       "      <td>0.184365</td>\n",
       "      <td>0.184593</td>\n",
       "      <td>0.184411</td>\n",
       "      <td>...</td>\n",
       "      <td>0.184717</td>\n",
       "      <td>0.183762</td>\n",
       "      <td>0.184530</td>\n",
       "      <td>0.184393</td>\n",
       "      <td>0.184930</td>\n",
       "      <td>0.182967</td>\n",
       "      <td>0.184393</td>\n",
       "      <td>0.184886</td>\n",
       "      <td>0.184386</td>\n",
       "      <td>79</td>\n",
       "    </tr>\n",
       "    <tr>\n",
       "      <th>3</th>\n",
       "      <td>0.184993</td>\n",
       "      <td>0.184371</td>\n",
       "      <td>0.184844</td>\n",
       "      <td>0.184426</td>\n",
       "      <td>0.184406</td>\n",
       "      <td>0.184069</td>\n",
       "      <td>0.184457</td>\n",
       "      <td>0.184266</td>\n",
       "      <td>0.184438</td>\n",
       "      <td>0.184315</td>\n",
       "      <td>...</td>\n",
       "      <td>0.182264</td>\n",
       "      <td>0.184184</td>\n",
       "      <td>0.183815</td>\n",
       "      <td>0.184239</td>\n",
       "      <td>0.185419</td>\n",
       "      <td>0.183500</td>\n",
       "      <td>0.184517</td>\n",
       "      <td>0.186871</td>\n",
       "      <td>0.184628</td>\n",
       "      <td>79</td>\n",
       "    </tr>\n",
       "    <tr>\n",
       "      <th>4</th>\n",
       "      <td>0.185026</td>\n",
       "      <td>0.184918</td>\n",
       "      <td>0.185227</td>\n",
       "      <td>0.184499</td>\n",
       "      <td>0.184197</td>\n",
       "      <td>0.184185</td>\n",
       "      <td>0.184239</td>\n",
       "      <td>0.184278</td>\n",
       "      <td>0.184551</td>\n",
       "      <td>0.184406</td>\n",
       "      <td>...</td>\n",
       "      <td>0.183700</td>\n",
       "      <td>0.185200</td>\n",
       "      <td>0.184174</td>\n",
       "      <td>0.184376</td>\n",
       "      <td>0.184301</td>\n",
       "      <td>0.185036</td>\n",
       "      <td>0.184492</td>\n",
       "      <td>0.185085</td>\n",
       "      <td>0.184751</td>\n",
       "      <td>79</td>\n",
       "    </tr>\n",
       "  </tbody>\n",
       "</table>\n",
       "<p>5 rows × 91 columns</p>\n",
       "</div>"
      ],
      "text/plain": [
       "         t1        t2        t3        t4        t5        t6        t7  \\\n",
       "0  0.185014  0.184660  0.185301  0.184503  0.184178  0.184232  0.184084   \n",
       "1  0.184999  0.184623  0.185267  0.184555  0.184266  0.184086  0.184503   \n",
       "2  0.185026  0.184789  0.185087  0.184561  0.184312  0.184164  0.184353   \n",
       "3  0.184993  0.184371  0.184844  0.184426  0.184406  0.184069  0.184457   \n",
       "4  0.185026  0.184918  0.185227  0.184499  0.184197  0.184185  0.184239   \n",
       "\n",
       "         t8        t9       t10  ...       t82       t83       t84       t85  \\\n",
       "0  0.184242  0.184491  0.184363  ...  0.183719  0.185126  0.184585  0.184408   \n",
       "1  0.184383  0.184627  0.184451  ...  0.184150  0.184804  0.184926  0.184271   \n",
       "2  0.184365  0.184593  0.184411  ...  0.184717  0.183762  0.184530  0.184393   \n",
       "3  0.184266  0.184438  0.184315  ...  0.182264  0.184184  0.183815  0.184239   \n",
       "4  0.184278  0.184551  0.184406  ...  0.183700  0.185200  0.184174  0.184376   \n",
       "\n",
       "        t86       t87       t88       t89       t90  year  \n",
       "0  0.184108  0.185243  0.184371  0.184053  0.184422    79  \n",
       "1  0.183994  0.185269  0.184544  0.185119  0.184728    79  \n",
       "2  0.184930  0.182967  0.184393  0.184886  0.184386    79  \n",
       "3  0.185419  0.183500  0.184517  0.186871  0.184628    79  \n",
       "4  0.184301  0.185036  0.184492  0.185085  0.184751    79  \n",
       "\n",
       "[5 rows x 91 columns]"
      ]
     },
     "execution_count": 1,
     "metadata": {},
     "output_type": "execute_result"
    }
   ],
   "source": [
    "\n",
    "\n",
    "import pandas as pd\n",
    "#from pandas.tools.plotting import scatter_matrix\n",
    "import numpy as np\n",
    "# fixed random seed for reproducibility\n",
    "np.random.seed(0)\n",
    "\n",
    "\n",
    "import matplotlib.pyplot as plt\n",
    "from matplotlib import rcParams\n",
    "rcParams['figure.figsize'] = 10,7\n",
    "rcParams['axes.grid'] = True\n",
    "import matplotlib.cm as cm\n",
    "\n",
    "from sklearn.model_selection import train_test_split\n",
    "from sklearn.preprocessing import StandardScaler\n",
    "import matplotlib.pyplot as plt\n",
    "from sklearn.utils import shuffle\n",
    "from sklearn.metrics import explained_variance_score, mean_absolute_error, mean_squared_error, r2_score, mean_squared_log_error, average_precision_score\n",
    "\n",
    "\n",
    "features = ['year', 't1', 't2', 't3', 't4', 't5', 't6', 't7', 't8', 't9', 't10', 't11', 't12', 't13', 't14', 't15', 't16', 't17', 't18', 't19', 't20', 't21', 't22', 't23', 't24', 't25', 't26', 't27', 't28', 't29', 't30', 't31', 't32', 't33', 't34', 't35', 't36', 't37', 't38', 't39', 't40', 't41', 't42', 't43', 't44', 't45', 't46', 't47', 't48', 't49', 't50', 't51', 't52', 't53' , 't54', 't55', 't56', 't57', 't58', 't59', 't60', 't61', 't62', 't63', 't64', 't65', 't66', 't67', 't68', 't69', 't70', 't71', 't72', 't73', 't74', 't75', 't76', 't77', 't78', 't79', 't80', 't81', 't82', 't83', 't84', 't85', 't86', 't87', 't88', 't89', 't90']\n",
    "\n",
    "# Note that our classes (which we have to predict from those 90 features), are all\n",
    "# the years from 1922 to 2011: 1922, 1923, 1924, 1925, ..., 2011\n",
    "# Theare exactly 90 years, so we also have 90 classes:\n",
    "nb_classes = 90\n",
    "\n",
    "# reading the data\n",
    "filename = \"YearPredictionMSD.txt\"\n",
    "data = pd.read_csv(filename, header = None, names = features)\n",
    "X = np.array(data.drop(['year'], axis=1))\n",
    "y = np.array(data['year'])\n",
    "\n",
    "# data normalizations (scaling down all values to the interval [0,1])\n",
    "# The years 1922-2011 are scaled down to integers [0,1,2,..., 89] \n",
    "a = X.min()\n",
    "b = X.max()\n",
    "X = (X - a) / (b - a)  # all values now between 0 and 1 !\n",
    "y = y - y.min() \n",
    "\n",
    "# creating a new data frame of normalized data\n",
    "data_nrm = pd.DataFrame(X, columns=features[1:] )\n",
    "data_nrm[\"year\"]=y\n",
    "\n",
    "data_nrm.head()"
   ]
  },
  {
   "cell_type": "code",
   "execution_count": 2,
   "metadata": {},
   "outputs": [],
   "source": [
    "# Training the model\n",
    "# with all features\n",
    "X_train = data_nrm.iloc[:,:-1][0:463715].to_numpy()\n",
    "y_train = data_nrm[\"year\"][0:463715].to_numpy()\n",
    "\n",
    "# Validation data set\n",
    "X_test = data_nrm.iloc[:,:-1][463715:].to_numpy()\n",
    "y_test = data_nrm[\"year\"][463715:].to_numpy()"
   ]
  },
  {
   "cell_type": "code",
   "execution_count": 6,
   "metadata": {},
   "outputs": [
    {
     "name": "stdout",
     "output_type": "stream",
     "text": [
      "<class '__main__.myCallback'>\n",
      "Model: \"sequential_4\"\n",
      "_________________________________________________________________\n",
      " Layer (type)                Output Shape              Param #   \n",
      "=================================================================\n",
      " dense_11 (Dense)            (None, 45)                4095      \n",
      "                                                                 \n",
      " dense_12 (Dense)            (None, 90)                4140      \n",
      "                                                                 \n",
      " dense_13 (Dense)            (None, 180)               16380     \n",
      "                                                                 \n",
      " dense_14 (Dense)            (None, 100)               18100     \n",
      "                                                                 \n",
      " dense_15 (Dense)            (None, 90)                9090      \n",
      "                                                                 \n",
      "=================================================================\n",
      "Total params: 51,805\n",
      "Trainable params: 51,805\n",
      "Non-trainable params: 0\n",
      "_________________________________________________________________\n",
      "None\n",
      "epoch :  0\n",
      "{'loss': 3.4538745880126953, 'accuracy': 0.07300173491239548, 'val_loss': 3.4408280849456787, 'val_accuracy': 0.07803602516651154}\n",
      "epoch :  100\n",
      "{'loss': 3.3408076763153076, 'accuracy': 0.07887603342533112, 'val_loss': 3.344609498977661, 'val_accuracy': 0.07762928307056427}\n",
      "epoch :  200\n",
      "{'loss': 3.3091745376586914, 'accuracy': 0.08197492361068726, 'val_loss': 3.3551313877105713, 'val_accuracy': 0.07731939107179642}\n",
      "epoch :  300\n",
      "{'loss': 3.28956937789917, 'accuracy': 0.0844937115907669, 'val_loss': 3.3531570434570312, 'val_accuracy': 0.07681580632925034}\n",
      "epoch :  400\n",
      "{'loss': 3.276780366897583, 'accuracy': 0.08576603978872299, 'val_loss': 3.3774685859680176, 'val_accuracy': 0.07503389567136765}\n",
      "epoch :  500\n",
      "{'loss': 3.263209819793701, 'accuracy': 0.0871332585811615, 'val_loss': 3.403137445449829, 'val_accuracy': 0.07342630624771118}\n",
      "epoch :  600\n",
      "{'loss': 3.2553350925445557, 'accuracy': 0.08797429502010345, 'val_loss': 3.4521796703338623, 'val_accuracy': 0.07762928307056427}\n",
      "epoch :  700\n",
      "{'loss': 3.253206729888916, 'accuracy': 0.08821150660514832, 'val_loss': 3.3868932723999023, 'val_accuracy': 0.07958551496267319}\n",
      "epoch :  800\n",
      "{'loss': 3.260314702987671, 'accuracy': 0.08427374809980392, 'val_loss': 3.318039655685425, 'val_accuracy': 0.07749370485544205}\n",
      "epoch :  900\n",
      "{'loss': 3.25418758392334, 'accuracy': 0.08516868948936462, 'val_loss': 3.3398804664611816, 'val_accuracy': 0.07764865458011627}\n"
     ]
    }
   ],
   "source": [
    "\n",
    "## CASE3: usage of neural networks\n",
    "import tensorflow as tf\n",
    "from keras.models import Sequential\n",
    "#from keras.layers.core import Dense, Dropout\n",
    "from keras.layers import Dense, Activation, Flatten\n",
    "from keras.models import load_model\n",
    "from keras.regularizers import l2\n",
    "from keras.utils import np_utils\n",
    "\n",
    "# we will train the network with all the features at first\n",
    "acc_thresh =0.9\n",
    "# we will first go with a simple neural network of one input layer (90 or 75(features selection) neurons), one hidden layer and one output layer (90-100 neurons)\n",
    "# for the hidden layer, we will put 100 neurons by choice\n",
    "\n",
    "model_nn = Sequential()\n",
    "model_nn.add(Dense(45, input_shape=(90,)))\n",
    "model_nn.add(Dense(90,  activation='relu'))\n",
    "model_nn.add(Dense(180,  activation='sigmoid'))\n",
    "model_nn.add(Dense(100,  activation='relu'))\n",
    "model_nn.add(Dense(90,  activation='softmax'))\n",
    "#model_nn.add(Flatten())\n",
    "\n",
    "#compiling the model\n",
    "model_nn.compile(loss='categorical_crossentropy', optimizer='adam', metrics=['accuracy'])\n",
    "\n",
    "\n",
    "# because keras does not work with integer classes, we will change them to categorical type\n",
    "Y_train = np_utils.to_categorical(y_train, nb_classes)\n",
    "Y_test = np_utils.to_categorical(y_test, nb_classes)\n",
    "\n",
    "\n",
    "class myCallback(tf.keras.callbacks.Callback): \n",
    "    def on_epoch_end(self, epoch, logs={}): \n",
    "        if (epoch % 100 ==0 ):\n",
    "            print(\"epoch : \", epoch)\n",
    "            print(logs)\n",
    "        if(logs.get('accuracy') > acc_thresh):   \n",
    "            print(\"\\nWe have reached %2.2f%% accuracy, so we will stopping training.\" %(acc_thresh*100))   \n",
    "            self.model.stop_training = True\n",
    "\n",
    "from kerutils import *\n",
    "from CodeMonitor.telegram import FitMonitor\n",
    "\n",
    "mcallbacks = myCallback()\n",
    "print (type(mcallbacks))\n",
    "print(model_nn.summary())\n",
    "#save_model_summary(model_NN, \"model_nn_summary.txt\")\n",
    "#write_file(\"model_nn.json\", model_nn.to_json())\n",
    "#fmon = FitMonitor(thresh=0.09, minacc=0.999, filename=\"model_nn.h5\")\n",
    "\n",
    "h = model_nn.fit(\n",
    "    X_train,\n",
    "    Y_train,\n",
    "    batch_size=128,\n",
    "    epochs=1000,\n",
    "    verbose=0,\n",
    "    shuffle=True,\n",
    "    validation_data=(X_test, Y_test),\n",
    "    validation_batch_size=100,\n",
    "    callbacks = [mcallbacks]\n",
    ")"
   ]
  },
  {
   "cell_type": "code",
   "execution_count": null,
   "metadata": {},
   "outputs": [],
   "source": []
  },
  {
   "cell_type": "code",
   "execution_count": null,
   "metadata": {},
   "outputs": [],
   "source": []
  },
  {
   "cell_type": "code",
   "execution_count": null,
   "metadata": {},
   "outputs": [],
   "source": []
  },
  {
   "cell_type": "markdown",
   "metadata": {},
   "source": [
    "#### Random forest\n",
    "encoding"
   ]
  },
  {
   "cell_type": "code",
   "execution_count": 3,
   "metadata": {},
   "outputs": [],
   "source": [
    "# trying random classifier with all the features and instances\n",
    "from sklearn.ensemble import RandomForestClassifier\n",
    "from sklearn.model_selection import RepeatedStratifiedKFold\n",
    "from sklearn.model_selection import cross_val_score\n",
    "from sklearn.model_selection import train_test_split\n",
    "from numpy import mean\n",
    "from numpy import std"
   ]
  },
  {
   "cell_type": "code",
   "execution_count": null,
   "metadata": {},
   "outputs": [],
   "source": [
    "\n",
    "\n",
    "model = RandomForestClassifier(bootstrap=False)\n",
    "model.fit(X_train, y_train)\n",
    "cv = RepeatedStratifiedKFold(n_splits=10, n_repeats=3, random_state=1)\n"
   ]
  },
  {
   "cell_type": "code",
   "execution_count": null,
   "metadata": {},
   "outputs": [],
   "source": [
    "\n",
    "n_scores = cross_val_score(model, X_test, y_test, scoring='accuracy', cv=cv, n_jobs=-1, error_score='raise')\n",
    "# report performance\n"
   ]
  },
  {
   "cell_type": "code",
   "execution_count": null,
   "metadata": {},
   "outputs": [],
   "source": [
    "# new\n",
    "\n",
    "\n",
    "print('Accuracy: %.3f (%.3f)' % (mean(n_scores), std(n_scores)))\n",
    "pth = model.decision_path(X_test)\n",
    "print(pth)\n",
    "predictions = model.predict(X_test)\n"
   ]
  },
  {
   "cell_type": "code",
   "execution_count": null,
   "metadata": {},
   "outputs": [],
   "source": [
    "\n",
    "\n",
    "print('Accuracy: %.3f (%.3f)' % (mean(n_scores), std(n_scores)))\n",
    "pth = model.decision_path(X_test)\n",
    "print(pth)\n",
    "predictions = model.predict(X_test)"
   ]
  },
  {
   "cell_type": "code",
   "execution_count": 21,
   "metadata": {},
   "outputs": [
    {
     "data": {
      "text/plain": [
       "137.7998644199109"
      ]
     },
     "execution_count": 21,
     "metadata": {},
     "output_type": "execute_result"
    }
   ],
   "source": [
    "mean_squared_error(y_test, predictions)"
   ]
  },
  {
   "cell_type": "code",
   "execution_count": 24,
   "metadata": {},
   "outputs": [
    {
     "data": {
      "text/plain": [
       "(463715,)"
      ]
     },
     "execution_count": 24,
     "metadata": {},
     "output_type": "execute_result"
    }
   ],
   "source": [
    "y_train.shape"
   ]
  },
  {
   "cell_type": "code",
   "execution_count": null,
   "metadata": {},
   "outputs": [],
   "source": []
  },
  {
   "cell_type": "code",
   "execution_count": 6,
   "metadata": {},
   "outputs": [],
   "source": [
    "# tuning parameters: changing some RF params\n",
    "model2 = RandomForestClassifier(max_depth=5, n_estimators=500, bootstrap=True, oob_score=True)\n",
    "model2.fit(X_train, y_train)\n",
    "cv = RepeatedStratifiedKFold(n_splits=10, n_repeats=3, random_state=1)\n",
    "\n"
   ]
  },
  {
   "cell_type": "code",
   "execution_count": 73,
   "metadata": {},
   "outputs": [
    {
     "name": "stdout",
     "output_type": "stream",
     "text": [
      "Accuracy: 0.084 (0.002)\n"
     ]
    }
   ],
   "source": [
    "n_scores = cross_val_score(model2, X_test, y_test, scoring='accuracy', cv=cv, n_jobs=-1, error_score='raise')\n",
    "# report performance\n",
    "print('Accuracy: %.3f (%.3f)' % (mean(n_scores), std(n_scores)))\n",
    "pth = model2.decision_path(X_test)\n",
    "#print(pth)\n",
    "predictions = model2.predict(X_test)"
   ]
  },
  {
   "cell_type": "code",
   "execution_count": 72,
   "metadata": {},
   "outputs": [
    {
     "data": {
      "text/plain": [
       "188.45229517722254"
      ]
     },
     "execution_count": 72,
     "metadata": {},
     "output_type": "execute_result"
    }
   ],
   "source": [
    "mean_squared_error(y_test, predictions)"
   ]
  },
  {
   "cell_type": "code",
   "execution_count": null,
   "metadata": {},
   "outputs": [],
   "source": [
    "model2.oob_score_"
   ]
  },
  {
   "cell_type": "code",
   "execution_count": null,
   "metadata": {},
   "outputs": [],
   "source": []
  },
  {
   "cell_type": "code",
   "execution_count": null,
   "metadata": {},
   "outputs": [],
   "source": [
    "# model better without max depth\n",
    "# tuning parameters: changing some RF params\n",
    "model3 = RandomForestClassifier(n_estimators=200, bootstrap=True, oob_score=True)\n",
    "model3.fit(X_train, y_train)\n",
    "cv = RepeatedStratifiedKFold(n_splits=10, n_repeats=3, random_state=1)\n",
    "\n",
    "n_scores = cross_val_score(model3, X_test, y_test, scoring='accuracy', cv=cv, n_jobs=-1, error_score='raise')\n",
    "# report performance\n",
    "print('Accuracy: %.3f (%.3f)' % (mean(n_scores), std(n_scores)))\n",
    "pth = model3.decision_path(X_test)\n",
    "#print(pth)\n",
    "predictions = model3.predict(X_test)\n",
    "\n",
    "mean_squared_error(y_test, predictions)\n"
   ]
  },
  {
   "cell_type": "markdown",
   "metadata": {},
   "source": [
    "### Bucketing with Random Forest\n",
    "instead of trying to predict the exact year, we will create buckets of year "
   ]
  },
  {
   "cell_type": "code",
   "execution_count": null,
   "metadata": {},
   "outputs": [],
   "source": [
    "# BUCKETING of the target variable \n",
    "\n",
    "# we will create 2 buckets, one for the left outliers, another for the right outliers and for the middle ones, buckets of \n",
    "\n"
   ]
  },
  {
   "cell_type": "code",
   "execution_count": 27,
   "metadata": {},
   "outputs": [
    {
     "name": "stdout",
     "output_type": "stream",
     "text": [
      "76.39708156671745 10.9310357487649\n"
     ]
    }
   ],
   "source": [
    "# mean and std of the year target variable\n",
    "y_mean = mean (y)\n",
    "y_std = std (y)\n",
    "\n",
    "print(y_mean , y_std )"
   ]
  },
  {
   "cell_type": "code",
   "execution_count": 28,
   "metadata": {},
   "outputs": [],
   "source": [
    "# so we know the mean is 76.36 and std is 10.93\n",
    "# we want to create a bucket for left outliers (2std) and one for the right ouliers\n",
    "\n"
   ]
  },
  {
   "cell_type": "code",
   "execution_count": 29,
   "metadata": {},
   "outputs": [],
   "source": [
    "# print(int(y_mean -2*y_std), int(y_mean+(y_std*2)))\n",
    "\n",
    "# so for the in between buckets, the min will be 54 and max 98>89; 89-54 =35\n",
    "# we want to put an interval of 5 years per bucket, so 7 buckets total"
   ]
  },
  {
   "cell_type": "code",
   "execution_count": 30,
   "metadata": {},
   "outputs": [
    {
     "name": "stdout",
     "output_type": "stream",
     "text": [
      "[-1 54 59 64 69 74 79 84 89]\n"
     ]
    },
    {
     "data": {
      "text/html": [
       "<div>\n",
       "<style scoped>\n",
       "    .dataframe tbody tr th:only-of-type {\n",
       "        vertical-align: middle;\n",
       "    }\n",
       "\n",
       "    .dataframe tbody tr th {\n",
       "        vertical-align: top;\n",
       "    }\n",
       "\n",
       "    .dataframe thead th {\n",
       "        text-align: right;\n",
       "    }\n",
       "</style>\n",
       "<table border=\"1\" class=\"dataframe\">\n",
       "  <thead>\n",
       "    <tr style=\"text-align: right;\">\n",
       "      <th></th>\n",
       "      <th>years</th>\n",
       "      <th>bucket</th>\n",
       "    </tr>\n",
       "  </thead>\n",
       "  <tbody>\n",
       "    <tr>\n",
       "      <th>0</th>\n",
       "      <td>79</td>\n",
       "      <td>(74, 79]</td>\n",
       "    </tr>\n",
       "    <tr>\n",
       "      <th>1</th>\n",
       "      <td>79</td>\n",
       "      <td>(74, 79]</td>\n",
       "    </tr>\n",
       "    <tr>\n",
       "      <th>2</th>\n",
       "      <td>79</td>\n",
       "      <td>(74, 79]</td>\n",
       "    </tr>\n",
       "    <tr>\n",
       "      <th>3</th>\n",
       "      <td>79</td>\n",
       "      <td>(74, 79]</td>\n",
       "    </tr>\n",
       "    <tr>\n",
       "      <th>4</th>\n",
       "      <td>79</td>\n",
       "      <td>(74, 79]</td>\n",
       "    </tr>\n",
       "  </tbody>\n",
       "</table>\n",
       "</div>"
      ],
      "text/plain": [
       "   years    bucket\n",
       "0     79  (74, 79]\n",
       "1     79  (74, 79]\n",
       "2     79  (74, 79]\n",
       "3     79  (74, 79]\n",
       "4     79  (74, 79]"
      ]
     },
     "execution_count": 30,
     "metadata": {},
     "output_type": "execute_result"
    }
   ],
   "source": [
    "#data = np.random.randint(low=1, high=10001, size=1000)                 \n",
    "\n",
    "df = pd.DataFrame(data=y, columns=[\"years\"])\n",
    "a = int(y_mean -2*y_std)\n",
    "bins = np.array([-1,a,a+5,a+10,a+15,a+20,a+25,a+30,a+35])\n",
    "\n",
    "print(bins)\n",
    "\n",
    "df[\"bucket\"] = pd.cut(df.years, bins)\n",
    "df.head(5) \n",
    "\n"
   ]
  },
  {
   "cell_type": "code",
   "execution_count": null,
   "metadata": {},
   "outputs": [],
   "source": []
  },
  {
   "cell_type": "code",
   "execution_count": null,
   "metadata": {},
   "outputs": [],
   "source": []
  },
  {
   "cell_type": "code",
   "execution_count": 32,
   "metadata": {},
   "outputs": [],
   "source": [
    "# so now that we have created buckets, we are going to run RF and Gradient boosting regression on those buckets instead\n",
    "\n",
    "y_train_buck = df[\"bucket\"][0:463715].to_numpy()\n",
    "y_test_buck = df[\"bucket\"][463715:].to_numpy()\n",
    "\n"
   ]
  },
  {
   "cell_type": "code",
   "execution_count": 33,
   "metadata": {},
   "outputs": [],
   "source": [
    "# encoding the intervals\n",
    "from sklearn.preprocessing import LabelEncoder\n",
    "from sklearn.preprocessing import OneHotEncoder"
   ]
  },
  {
   "cell_type": "code",
   "execution_count": 34,
   "metadata": {},
   "outputs": [],
   "source": [
    "label_encoder = LabelEncoder()\n",
    "y_train_buck_en = label_encoder.fit_transform(y_train_buck)\n",
    "y_test_buck_en = label_encoder.fit_transform(y_test_buck)\n"
   ]
  },
  {
   "cell_type": "code",
   "execution_count": 38,
   "metadata": {},
   "outputs": [
    {
     "name": "stdout",
     "output_type": "stream",
     "text": [
      "Accuracy: 0.389 (0.006)\n",
      "(<51630x35753868 sparse matrix of type '<class 'numpy.int64'>'\n",
      "\twith 122761356 stored elements in Compressed Sparse Row format>, array([       0,   357799,   715272,  1072507,  1430052,  1788535,\n",
      "        2145990,  2502909,  2860270,  3217655,  3575392,  3933103,\n",
      "        4290272,  4648153,  5005826,  5363013,  5720510,  6078567,\n",
      "        6436078,  6794511,  7152578,  7510783,  7867650,  8225861,\n",
      "        8583420,  8939573,  9296886,  9653153, 10010864, 10368501,\n",
      "       10726838, 11084221, 11442222, 11799877, 12157428, 12515273,\n",
      "       12872708, 13230405, 13587408, 13944099, 14301290, 14657887,\n",
      "       15015746, 15373931, 15731986, 16089165, 16446310, 16803979,\n",
      "       17161610, 17518705, 17874332, 18232593, 18590726, 18948671,\n",
      "       19306998, 19665701, 20023692, 20381015, 20738996, 21096009,\n",
      "       21453626, 21810231, 22167164, 22525401, 22883370, 23240693,\n",
      "       23598592, 23955789, 24314716, 24672583, 25030258, 25387025,\n",
      "       25745174, 26102101, 26459440, 26816979, 27174360, 27531281,\n",
      "       27889076, 28246329, 28604676, 28961215, 29318594, 29676667,\n",
      "       30034986, 30392605, 30750466, 31107297, 31464596, 31822381,\n",
      "       32180722, 32538045, 32893740, 33250459, 33608472, 33966851,\n",
      "       34324192, 34681367, 35038726, 35395979, 35753868]))\n",
      "Accuracy: 0.389 (0.006)\n",
      "(<51630x35753868 sparse matrix of type '<class 'numpy.int64'>'\n",
      "\twith 122761356 stored elements in Compressed Sparse Row format>, array([       0,   357799,   715272,  1072507,  1430052,  1788535,\n",
      "        2145990,  2502909,  2860270,  3217655,  3575392,  3933103,\n",
      "        4290272,  4648153,  5005826,  5363013,  5720510,  6078567,\n",
      "        6436078,  6794511,  7152578,  7510783,  7867650,  8225861,\n",
      "        8583420,  8939573,  9296886,  9653153, 10010864, 10368501,\n",
      "       10726838, 11084221, 11442222, 11799877, 12157428, 12515273,\n",
      "       12872708, 13230405, 13587408, 13944099, 14301290, 14657887,\n",
      "       15015746, 15373931, 15731986, 16089165, 16446310, 16803979,\n",
      "       17161610, 17518705, 17874332, 18232593, 18590726, 18948671,\n",
      "       19306998, 19665701, 20023692, 20381015, 20738996, 21096009,\n",
      "       21453626, 21810231, 22167164, 22525401, 22883370, 23240693,\n",
      "       23598592, 23955789, 24314716, 24672583, 25030258, 25387025,\n",
      "       25745174, 26102101, 26459440, 26816979, 27174360, 27531281,\n",
      "       27889076, 28246329, 28604676, 28961215, 29318594, 29676667,\n",
      "       30034986, 30392605, 30750466, 31107297, 31464596, 31822381,\n",
      "       32180722, 32538045, 32893740, 33250459, 33608472, 33966851,\n",
      "       34324192, 34681367, 35038726, 35395979, 35753868]))\n"
     ]
    },
    {
     "data": {
      "text/plain": [
       "4.293434049970947"
      ]
     },
     "execution_count": 38,
     "metadata": {},
     "output_type": "execute_result"
    }
   ],
   "source": [
    "model_buck = RandomForestClassifier(bootstrap=False)\n",
    "model_buck.fit(X_train, y_train_buck_en)\n",
    "cv = RepeatedStratifiedKFold(n_splits=10, n_repeats=3, random_state=1)\n",
    "\n",
    "\n",
    "n_scores = cross_val_score(model_buck, X_test, y_test_buck_en, scoring='accuracy', cv=cv, n_jobs=-1, error_score='raise')\n",
    "# report performance\n",
    "\n",
    "print('Accuracy: %.3f (%.3f)' % (mean(n_scores), std(n_scores)))\n",
    "pth = model_buck.decision_path(X_test)\n",
    "print(pth)\n",
    "predictions = model_buck.predict(X_test)\n",
    "\n",
    "print('Accuracy: %.3f (%.3f)' % (mean(n_scores), std(n_scores)))\n",
    "pth = model_buck.decision_path(X_test)\n",
    "print(pth)\n",
    "predictions = model_buck.predict(X_test)\n",
    "\n",
    "mean_squared_error(y_test_buck_en, predictions)\n"
   ]
  },
  {
   "cell_type": "code",
   "execution_count": 37,
   "metadata": {},
   "outputs": [
    {
     "data": {
      "text/plain": [
       "<memory at 0x7fdc7a1032c0>"
      ]
     },
     "execution_count": 37,
     "metadata": {},
     "output_type": "execute_result"
    }
   ],
   "source": [
    "y_train_buck.data"
   ]
  },
  {
   "cell_type": "code",
   "execution_count": 36,
   "metadata": {},
   "outputs": [
    {
     "data": {
      "text/plain": [
       "{Interval(-1, 54, closed='right'),\n",
       " Interval(54, 59, closed='right'),\n",
       " Interval(59, 64, closed='right'),\n",
       " Interval(64, 69, closed='right'),\n",
       " Interval(69, 74, closed='right'),\n",
       " Interval(74, 79, closed='right'),\n",
       " Interval(79, 84, closed='right'),\n",
       " Interval(84, 89, closed='right')}"
      ]
     },
     "execution_count": 36,
     "metadata": {},
     "output_type": "execute_result"
    }
   ],
   "source": [
    "set(df[\"bucket\"])"
   ]
  },
  {
   "cell_type": "code",
   "execution_count": 37,
   "metadata": {},
   "outputs": [
    {
     "data": {
      "text/html": [
       "<div>\n",
       "<style scoped>\n",
       "    .dataframe tbody tr th:only-of-type {\n",
       "        vertical-align: middle;\n",
       "    }\n",
       "\n",
       "    .dataframe tbody tr th {\n",
       "        vertical-align: top;\n",
       "    }\n",
       "\n",
       "    .dataframe thead th {\n",
       "        text-align: right;\n",
       "    }\n",
       "</style>\n",
       "<table border=\"1\" class=\"dataframe\">\n",
       "  <thead>\n",
       "    <tr style=\"text-align: right;\">\n",
       "      <th></th>\n",
       "      <th>years</th>\n",
       "      <th>bucket</th>\n",
       "    </tr>\n",
       "  </thead>\n",
       "  <tbody>\n",
       "  </tbody>\n",
       "</table>\n",
       "</div>"
      ],
      "text/plain": [
       "Empty DataFrame\n",
       "Columns: [years, bucket]\n",
       "Index: []"
      ]
     },
     "execution_count": 37,
     "metadata": {},
     "output_type": "execute_result"
    }
   ],
   "source": [
    "df[pd.isna(df[\"bucket\"])==True]"
   ]
  },
  {
   "cell_type": "code",
   "execution_count": 16,
   "metadata": {},
   "outputs": [
    {
     "name": "stdout",
     "output_type": "stream",
     "text": [
      "[Interval(74.0, 79.0, closed='right') Interval(74.0, 79.0, closed='right')\n",
      " Interval(74.0, 79.0, closed='right') ...\n",
      " Interval(84.0, 89.0, closed='right') Interval(79.0, 84.0, closed='right')\n",
      " Interval(84.0, 89.0, closed='right')]\n"
     ]
    }
   ],
   "source": [
    "\n",
    "print(y_train_buck)"
   ]
  },
  {
   "cell_type": "code",
   "execution_count": 18,
   "metadata": {},
   "outputs": [
    {
     "name": "stdout",
     "output_type": "stream",
     "text": [
      "[5 5 5 ... 7 6 7]\n"
     ]
    }
   ],
   "source": [
    "print(y_train_buck_en)"
   ]
  },
  {
   "cell_type": "code",
   "execution_count": 19,
   "metadata": {},
   "outputs": [
    {
     "name": "stderr",
     "output_type": "stream",
     "text": [
      "/Users/vickyyounang/opt/anaconda3/lib/python3.7/site-packages/statsmodels/tools/_testing.py:19: FutureWarning: pandas.util.testing is deprecated. Use the functions in the public API at pandas.testing instead.\n",
      "  import pandas.util.testing as tm\n"
     ]
    },
    {
     "data": {
      "image/png": "[encoded data removed]",
      "text/plain": [
       "<Figure size 432x288 with 2 Axes>"
      ]
     },
     "metadata": {
      "needs_background": "light"
     },
     "output_type": "display_data"
    }
   ],
   "source": [
    "# ploting cm\n",
    "\n",
    "import seaborn as sn\n",
    "import matplotlib.pyplot as plt\n",
    "\n",
    "confusion_matrix = pd.crosstab(y_test_buck_en, predictions, rownames=['Actual'], colnames=['Predicted'])\n",
    "\n",
    "sn.heatmap(confusion_matrix, annot=True)\n",
    "plt.show()"
   ]
  },
  {
   "cell_type": "code",
   "execution_count": 20,
   "metadata": {},
   "outputs": [
    {
     "data": {
      "text/plain": [
       "array([7, 6, 6, ..., 6, 6, 6])"
      ]
     },
     "execution_count": 20,
     "metadata": {},
     "output_type": "execute_result"
    }
   ],
   "source": [
    "y_test_buck_en"
   ]
  },
  {
   "cell_type": "code",
   "execution_count": 21,
   "metadata": {},
   "outputs": [
    {
     "data": {
      "text/plain": [
       "array([6, 6, 6, ..., 7, 6, 6])"
      ]
     },
     "execution_count": 21,
     "metadata": {},
     "output_type": "execute_result"
    }
   ],
   "source": [
    "predictions"
   ]
  },
  {
   "cell_type": "code",
   "execution_count": 59,
   "metadata": {},
   "outputs": [
    {
     "data": {
      "text/html": [
       "<div>\n",
       "<style scoped>\n",
       "    .dataframe tbody tr th:only-of-type {\n",
       "        vertical-align: middle;\n",
       "    }\n",
       "\n",
       "    .dataframe tbody tr th {\n",
       "        vertical-align: top;\n",
       "    }\n",
       "\n",
       "    .dataframe thead th {\n",
       "        text-align: right;\n",
       "    }\n",
       "</style>\n",
       "<table border=\"1\" class=\"dataframe\">\n",
       "  <thead>\n",
       "    <tr style=\"text-align: right;\">\n",
       "      <th></th>\n",
       "      <th>0</th>\n",
       "      <th>buckets</th>\n",
       "    </tr>\n",
       "  </thead>\n",
       "  <tbody>\n",
       "    <tr>\n",
       "      <th>0</th>\n",
       "      <td>0</td>\n",
       "      <td>(-1, 54]</td>\n",
       "    </tr>\n",
       "    <tr>\n",
       "      <th>1</th>\n",
       "      <td>1</td>\n",
       "      <td>(54, 59]</td>\n",
       "    </tr>\n",
       "    <tr>\n",
       "      <th>2</th>\n",
       "      <td>2</td>\n",
       "      <td>(59, 64]</td>\n",
       "    </tr>\n",
       "    <tr>\n",
       "      <th>3</th>\n",
       "      <td>3</td>\n",
       "      <td>(64, 69]</td>\n",
       "    </tr>\n",
       "    <tr>\n",
       "      <th>4</th>\n",
       "      <td>4</td>\n",
       "      <td>(69, 74]</td>\n",
       "    </tr>\n",
       "    <tr>\n",
       "      <th>5</th>\n",
       "      <td>5</td>\n",
       "      <td>(74, 79]</td>\n",
       "    </tr>\n",
       "    <tr>\n",
       "      <th>6</th>\n",
       "      <td>6</td>\n",
       "      <td>(79, 84]</td>\n",
       "    </tr>\n",
       "    <tr>\n",
       "      <th>7</th>\n",
       "      <td>7</td>\n",
       "      <td>(84, 89]</td>\n",
       "    </tr>\n",
       "  </tbody>\n",
       "</table>\n",
       "</div>"
      ],
      "text/plain": [
       "   0   buckets\n",
       "0  0  (-1, 54]\n",
       "1  1  (54, 59]\n",
       "2  2  (59, 64]\n",
       "3  3  (64, 69]\n",
       "4  4  (69, 74]\n",
       "5  5  (74, 79]\n",
       "6  6  (79, 84]\n",
       "7  7  (84, 89]"
      ]
     },
     "execution_count": 59,
     "metadata": {},
     "output_type": "execute_result"
    }
   ],
   "source": [
    "a = pd.DataFrame(sorted(np.unique(y_test_buck_en) ))\n",
    "a[\"buckets\"] = sorted(pd.unique(df[\"bucket\"]))\n",
    "a\n",
    "#df.nunique()"
   ]
  },
  {
   "cell_type": "code",
   "execution_count": null,
   "metadata": {},
   "outputs": [],
   "source": [
    "# RF with buckets while removing the outliers "
   ]
  },
  {
   "cell_type": "code",
   "execution_count": null,
   "metadata": {},
   "outputs": [],
   "source": []
  },
  {
   "cell_type": "code",
   "execution_count": 62,
   "metadata": {},
   "outputs": [
    {
     "data": {
      "text/plain": [
       "array([7, 6, 6, ..., 6, 6, 6])"
      ]
     },
     "execution_count": 62,
     "metadata": {},
     "output_type": "execute_result"
    }
   ],
   "source": [
    "predictions"
   ]
  },
  {
   "cell_type": "code",
   "execution_count": null,
   "metadata": {},
   "outputs": [],
   "source": [
    "\n"
   ]
  },
  {
   "cell_type": "code",
   "execution_count": null,
   "metadata": {},
   "outputs": [],
   "source": [
    "# bucketing with tuned parameters\n",
    "model_buck2 = RandomForestClassifier( n_estimators=500, bootstrap=True, oob_score=True)\n",
    "model_buck2.fit(X_train, y_train_buck_en)\n",
    "cv = RepeatedStratifiedKFold(n_splits=10, n_repeats=3, random_state=1)\n",
    "\n",
    "\n",
    "n_scores = cross_val_score(model_buck2, X_test, y_test_buck_en, scoring='accuracy', cv=cv, n_jobs=-1, error_score='raise')\n",
    "# report performance\n",
    "\n",
    "print('Accuracy: %.3f (%.3f)' % (mean(n_scores), std(n_scores)))\n",
    "pth = model_buck2.decision_path(X_test)\n",
    "print(pth)\n",
    "predictions = model_buck2.predict(X_test)\n",
    "\n",
    "print('Accuracy: %.3f (%.3f)' % (mean(n_scores), std(n_scores)))\n",
    "pth = model_buck2.decision_path(X_test)\n",
    "print(pth)\n",
    "predictions = model_buck2.predict(X_test)\n",
    "\n",
    "mean_squared_error(y_test_buck_en, predictions)"
   ]
  },
  {
   "cell_type": "code",
   "execution_count": null,
   "metadata": {},
   "outputs": [],
   "source": []
  },
  {
   "cell_type": "code",
   "execution_count": null,
   "metadata": {},
   "outputs": [],
   "source": []
  }
 ],
 "metadata": {
  "kernelspec": {
   "display_name": "Python 3",
   "language": "python",
   "name": "python3"
  },
  "language_info": {
   "codemirror_mode": {
    "name": "ipython",
    "version": 3
   },
   "file_extension": ".py",
   "mimetype": "text/x-python",
   "name": "python",
   "nbconvert_exporter": "python",
   "pygments_lexer": "ipython3",
   "version": "3.7.4"
  }
 },
 "nbformat": 4,
 "nbformat_minor": 2
}
