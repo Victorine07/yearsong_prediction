{
 "cells": [
  {
   "cell_type": "markdown",
   "metadata": {},
   "source": [
    "# INFORMATION RETRIEVAL AND KNOWLEDGE DISCOVERY\n",
    "\n",
    "    Victorine Wakam \n",
    "    \n",
    "### PROJECT1 : YEAR SONG PREDICTION \n",
    "\n",
    "#### TASK: \n",
    "    \n",
    "    Prediction of the release year of a song from audio features. Songs are mostly western, commercial tracks ranging from 1922 to 2011, with a peak in the year 2000s.\n",
    " \n",
    "#### Attribute Information:\n",
    "\n",
    "    90 attributes, 12 = timbre average, 78 = timbre covariance\n",
    "    The first value is the year (target), ranging from 1922 to 2011.\n",
    "    Features extracted from the 'timbre' features from The Echo Nest API.\n",
    "    We take the average and covariance over all 'segments', each segment\n",
    "    being described by a 12-dimensional timbre vector.\n",
    " \n",
    "#### Data Set Information:\n",
    "\n",
    "    You should respect the following train / test split:\n",
    "    train: first 463,715 examples\n",
    "    test: last 51,630 examples\n",
    "    It avoids the 'producer effect' by making sure no song\n",
    "    from a given artist ends up in both the train and test set.\n",
    "\n",
    "\n"
   ]
  },
  {
   "cell_type": "code",
   "execution_count": 7,
   "metadata": {},
   "outputs": [],
   "source": [
    "# librairies\n",
    "\n",
    "\n",
    "import pandas as pd\n",
    "#from pandas.tools.plotting import scatter_matrix\n",
    "import numpy as np\n",
    "# fixed random seed for reproducibility\n",
    "np.random.seed(0)\n",
    "\n",
    "\n",
    "import matplotlib.pyplot as plt\n",
    "from matplotlib import rcParams\n",
    "rcParams['figure.figsize'] = 10,7\n",
    "rcParams['axes.grid'] = True\n",
    "import matplotlib.cm as cm\n",
    "\n",
    "from sklearn.model_selection import train_test_split\n",
    "from sklearn.preprocessing import StandardScaler\n",
    "import matplotlib.pyplot as plt\n",
    "from sklearn.utils import shuffle\n",
    "from sklearn.metrics import explained_variance_score, mean_absolute_error, mean_squared_error, r2_score, mean_squared_log_error, average_precision_score\n"
   ]
  },
  {
   "cell_type": "code",
   "execution_count": 8,
   "metadata": {},
   "outputs": [],
   "source": [
    "# linear regression feature importance\n",
    "#from sklearn.datasets import make_regression\n",
    "from sklearn.linear_model import LinearRegression\n"
   ]
  },
  {
   "cell_type": "code",
   "execution_count": 9,
   "metadata": {},
   "outputs": [],
   "source": [
    "features = ['year', 't1', 't2', 't3', 't4', 't5', 't6', 't7', 't8', 't9', 't10', 't11', 't12', 't13', 't14', 't15', 't16', 't17', 't18', 't19', 't20', 't21', 't22', 't23', 't24', 't25', 't26', 't27', 't28', 't29', 't30', 't31', 't32', 't33', 't34', 't35', 't36', 't37', 't38', 't39', 't40', 't41', 't42', 't43', 't44', 't45', 't46', 't47', 't48', 't49', 't50', 't51', 't52', 't53' , 't54', 't55', 't56', 't57', 't58', 't59', 't60', 't61', 't62', 't63', 't64', 't65', 't66', 't67', 't68', 't69', 't70', 't71', 't72', 't73', 't74', 't75', 't76', 't77', 't78', 't79', 't80', 't81', 't82', 't83', 't84', 't85', 't86', 't87', 't88', 't89', 't90']\n",
    "\n",
    "# Note that our classes (which we have to predict from those 90 features), are all\n",
    "# the years from 1922 to 2011: 1922, 1923, 1924, 1925, ..., 2011\n",
    "# Theare exactly 90 years, so we also have 90 classes:\n",
    "nb_classes = 90"
   ]
  },
  {
   "cell_type": "code",
   "execution_count": 10,
   "metadata": {},
   "outputs": [],
   "source": [
    "# reading the data\n",
    "filename = \"YearPredictionMSD.txt\"\n",
    "data = pd.read_csv(filename, header = None, names = features)\n",
    "X = np.array(data.drop(['year'], axis=1))\n",
    "y = np.array(data['year'])"
   ]
  },
  {
   "cell_type": "code",
   "execution_count": 14,
   "metadata": {},
   "outputs": [
    {
     "name": "stdout",
     "output_type": "stream",
     "text": [
      "(515345, 91)\n"
     ]
    },
    {
     "data": {
      "text/html": [
       "<div>\n",
       "<style scoped>\n",
       "    .dataframe tbody tr th:only-of-type {\n",
       "        vertical-align: middle;\n",
       "    }\n",
       "\n",
       "    .dataframe tbody tr th {\n",
       "        vertical-align: top;\n",
       "    }\n",
       "\n",
       "    .dataframe thead th {\n",
       "        text-align: right;\n",
       "    }\n",
       "</style>\n",
       "<table border=\"1\" class=\"dataframe\">\n",
       "  <thead>\n",
       "    <tr style=\"text-align: right;\">\n",
       "      <th></th>\n",
       "      <th>year</th>\n",
       "      <th>t1</th>\n",
       "      <th>t2</th>\n",
       "      <th>t3</th>\n",
       "      <th>t4</th>\n",
       "      <th>t5</th>\n",
       "      <th>t6</th>\n",
       "      <th>t7</th>\n",
       "      <th>t8</th>\n",
       "      <th>t9</th>\n",
       "    </tr>\n",
       "  </thead>\n",
       "  <tbody>\n",
       "    <tr>\n",
       "      <th>100</th>\n",
       "      <td>2008</td>\n",
       "      <td>36.57341</td>\n",
       "      <td>40.76354</td>\n",
       "      <td>-1.37479</td>\n",
       "      <td>18.26958</td>\n",
       "      <td>-7.85506</td>\n",
       "      <td>-12.91930</td>\n",
       "      <td>15.95326</td>\n",
       "      <td>13.05346</td>\n",
       "      <td>-10.98357</td>\n",
       "    </tr>\n",
       "    <tr>\n",
       "      <th>101</th>\n",
       "      <td>2009</td>\n",
       "      <td>47.57913</td>\n",
       "      <td>44.00216</td>\n",
       "      <td>-20.86854</td>\n",
       "      <td>15.68389</td>\n",
       "      <td>0.28155</td>\n",
       "      <td>-12.98692</td>\n",
       "      <td>8.40916</td>\n",
       "      <td>8.45960</td>\n",
       "      <td>-15.20321</td>\n",
       "    </tr>\n",
       "    <tr>\n",
       "      <th>102</th>\n",
       "      <td>2009</td>\n",
       "      <td>50.01514</td>\n",
       "      <td>85.99753</td>\n",
       "      <td>-10.86962</td>\n",
       "      <td>-16.04817</td>\n",
       "      <td>-5.21407</td>\n",
       "      <td>-19.06423</td>\n",
       "      <td>0.60184</td>\n",
       "      <td>4.70044</td>\n",
       "      <td>-3.45756</td>\n",
       "    </tr>\n",
       "    <tr>\n",
       "      <th>103</th>\n",
       "      <td>2009</td>\n",
       "      <td>47.46427</td>\n",
       "      <td>38.57579</td>\n",
       "      <td>-16.62851</td>\n",
       "      <td>-8.74569</td>\n",
       "      <td>-17.57472</td>\n",
       "      <td>-20.53645</td>\n",
       "      <td>8.71748</td>\n",
       "      <td>-2.62025</td>\n",
       "      <td>0.75556</td>\n",
       "    </tr>\n",
       "    <tr>\n",
       "      <th>104</th>\n",
       "      <td>2008</td>\n",
       "      <td>42.40756</td>\n",
       "      <td>30.87384</td>\n",
       "      <td>-53.31370</td>\n",
       "      <td>75.21764</td>\n",
       "      <td>13.45603</td>\n",
       "      <td>10.56135</td>\n",
       "      <td>4.32810</td>\n",
       "      <td>20.33905</td>\n",
       "      <td>2.81100</td>\n",
       "    </tr>\n",
       "    <tr>\n",
       "      <th>105</th>\n",
       "      <td>2008</td>\n",
       "      <td>42.93189</td>\n",
       "      <td>17.33496</td>\n",
       "      <td>-14.89457</td>\n",
       "      <td>30.36314</td>\n",
       "      <td>-30.71208</td>\n",
       "      <td>-14.58057</td>\n",
       "      <td>-0.86303</td>\n",
       "      <td>-6.77871</td>\n",
       "      <td>7.45277</td>\n",
       "    </tr>\n",
       "    <tr>\n",
       "      <th>106</th>\n",
       "      <td>2008</td>\n",
       "      <td>47.25722</td>\n",
       "      <td>76.94691</td>\n",
       "      <td>33.35870</td>\n",
       "      <td>22.21808</td>\n",
       "      <td>24.60699</td>\n",
       "      <td>-13.97433</td>\n",
       "      <td>-1.26071</td>\n",
       "      <td>4.90241</td>\n",
       "      <td>-7.64389</td>\n",
       "    </tr>\n",
       "    <tr>\n",
       "      <th>107</th>\n",
       "      <td>2008</td>\n",
       "      <td>51.47089</td>\n",
       "      <td>24.49163</td>\n",
       "      <td>10.80634</td>\n",
       "      <td>-5.68605</td>\n",
       "      <td>-2.73621</td>\n",
       "      <td>-23.88744</td>\n",
       "      <td>-3.49063</td>\n",
       "      <td>-1.26504</td>\n",
       "      <td>5.07964</td>\n",
       "    </tr>\n",
       "    <tr>\n",
       "      <th>108</th>\n",
       "      <td>2008</td>\n",
       "      <td>45.90578</td>\n",
       "      <td>74.56383</td>\n",
       "      <td>-3.78965</td>\n",
       "      <td>12.39632</td>\n",
       "      <td>23.83092</td>\n",
       "      <td>-26.01724</td>\n",
       "      <td>5.72196</td>\n",
       "      <td>-3.25670</td>\n",
       "      <td>5.24608</td>\n",
       "    </tr>\n",
       "    <tr>\n",
       "      <th>109</th>\n",
       "      <td>2008</td>\n",
       "      <td>50.54486</td>\n",
       "      <td>44.66363</td>\n",
       "      <td>21.59233</td>\n",
       "      <td>0.63973</td>\n",
       "      <td>18.81458</td>\n",
       "      <td>-31.82536</td>\n",
       "      <td>11.59790</td>\n",
       "      <td>8.54721</td>\n",
       "      <td>-6.26381</td>\n",
       "    </tr>\n",
       "  </tbody>\n",
       "</table>\n",
       "</div>"
      ],
      "text/plain": [
       "     year        t1        t2        t3        t4        t5        t6  \\\n",
       "100  2008  36.57341  40.76354  -1.37479  18.26958  -7.85506 -12.91930   \n",
       "101  2009  47.57913  44.00216 -20.86854  15.68389   0.28155 -12.98692   \n",
       "102  2009  50.01514  85.99753 -10.86962 -16.04817  -5.21407 -19.06423   \n",
       "103  2009  47.46427  38.57579 -16.62851  -8.74569 -17.57472 -20.53645   \n",
       "104  2008  42.40756  30.87384 -53.31370  75.21764  13.45603  10.56135   \n",
       "105  2008  42.93189  17.33496 -14.89457  30.36314 -30.71208 -14.58057   \n",
       "106  2008  47.25722  76.94691  33.35870  22.21808  24.60699 -13.97433   \n",
       "107  2008  51.47089  24.49163  10.80634  -5.68605  -2.73621 -23.88744   \n",
       "108  2008  45.90578  74.56383  -3.78965  12.39632  23.83092 -26.01724   \n",
       "109  2008  50.54486  44.66363  21.59233   0.63973  18.81458 -31.82536   \n",
       "\n",
       "           t7        t8        t9  \n",
       "100  15.95326  13.05346 -10.98357  \n",
       "101   8.40916   8.45960 -15.20321  \n",
       "102   0.60184   4.70044  -3.45756  \n",
       "103   8.71748  -2.62025   0.75556  \n",
       "104   4.32810  20.33905   2.81100  \n",
       "105  -0.86303  -6.77871   7.45277  \n",
       "106  -1.26071   4.90241  -7.64389  \n",
       "107  -3.49063  -1.26504   5.07964  \n",
       "108   5.72196  -3.25670   5.24608  \n",
       "109  11.59790   8.54721  -6.26381  "
      ]
     },
     "execution_count": 14,
     "metadata": {},
     "output_type": "execute_result"
    }
   ],
   "source": [
    "print(data.shape)\n",
    "data.iloc[100:110, 0:10]"
   ]
  },
  {
   "cell_type": "markdown",
   "metadata": {},
   "source": [
    "#### Part I: DATASET ANALYSIS & UNDERSTANDING\n",
    "We will try to vizualize the data, the different features and try to see if they are all relavant and if we should use all of them. \n",
    "\n",
    "A. Data Characteristics\n",
    "- data visualization \n",
    "- training set\n",
    "- label distribution ...\n",
    "\n"
   ]
  },
  {
   "cell_type": "code",
   "execution_count": null,
   "metadata": {},
   "outputs": [],
   "source": []
  },
  {
   "cell_type": "code",
   "execution_count": 7,
   "metadata": {},
   "outputs": [
    {
     "data": {
      "text/plain": [
       "<matplotlib.legend.Legend at 0x7fb160680510>"
      ]
     },
     "execution_count": 7,
     "metadata": {},
     "output_type": "execute_result"
    },
    {
     "data": {
      "image/png": "[encoded data removed]",
      "text/plain": [
       "<Figure size 432x288 with 1 Axes>"
      ]
     },
     "metadata": {
      "needs_background": "light"
     },
     "output_type": "display_data"
    }
   ],
   "source": [
    "# Let's plot 15 samples of X (from item 1600 to item 1615)\n",
    "for i in range(1600, 1615):\n",
    "    plt.plot(data[1:].loc[i], label='song_' + str(i))\n",
    "    \n",
    "plt.xlabel(\"Feature\")\n",
    "plt.ylabel(\"Value\")\n",
    "plt.legend(loc='upper center', bbox_to_anchor=(0.9, 0.9), ncol=5, fancybox=True, shadow=True, fontsize=7)"
   ]
  },
  {
   "cell_type": "code",
   "execution_count": null,
   "metadata": {},
   "outputs": [],
   "source": []
  },
  {
   "cell_type": "code",
   "execution_count": 8,
   "metadata": {},
   "outputs": [
    {
     "data": {
      "text/plain": [
       "Text(0.5, 1.0, 'feature 4 to 19 distribution')"
      ]
     },
     "execution_count": 8,
     "metadata": {},
     "output_type": "execute_result"
    },
    {
     "data": {
      "image/png": "[encoded data removed]",
      "text/plain": [
       "<Figure size 432x288 with 1 Axes>"
      ]
     },
     "metadata": {
      "needs_background": "light"
     },
     "output_type": "display_data"
    }
   ],
   "source": [
    "# for 10 features, let's see the range of the distribution of their values\n",
    "# we will take features 4th to 20th as features :12 = timbre average, 78 = timbre covariance\n",
    "for t in features[4:20]:\n",
    "    values = data[t].to_numpy() #.as_matrix()\n",
    "    #print(values)\n",
    "    plt.plot(sorted(values), label=t, linewidth=1)\n",
    "\n",
    "plt.legend(loc='upper center', bbox_to_anchor=(0.4, 1.04), ncol=3, fancybox=True, shadow=True)\n",
    "plt.title(\"feature 4 to 19 distribution\")"
   ]
  },
  {
   "cell_type": "markdown",
   "metadata": {},
   "source": [
    "we can see that there are some features that have really high values and might be dominant when we train the model; this is why we need to scale the values\n",
    "\n",
    "Let's see the data distribution per yer; number of songs per year in the dataset"
   ]
  },
  {
   "cell_type": "code",
   "execution_count": 9,
   "metadata": {},
   "outputs": [],
   "source": [
    "#data.head()"
   ]
  },
  {
   "cell_type": "code",
   "execution_count": 10,
   "metadata": {},
   "outputs": [],
   "source": [
    "# create a dictionary to store the years and counts\n",
    "num_songs={}\n",
    "years = range(1922,2012)\n",
    "for element in years:\n",
    "    num_songs[element] = len(data[data.year==element])\n",
    "\n",
    "#num_songs\n",
    "\n"
   ]
  },
  {
   "cell_type": "code",
   "execution_count": 11,
   "metadata": {},
   "outputs": [
    {
     "data": {
      "text/plain": [
       "Text(0, 0.5, 'Number of songs')"
      ]
     },
     "execution_count": 11,
     "metadata": {},
     "output_type": "execute_result"
    },
    {
     "data": {
      "image/png": "[encoded data removed]",
      "text/plain": [
       "<Figure size 432x288 with 1 Axes>"
      ]
     },
     "metadata": {
      "needs_background": "light"
     },
     "output_type": "display_data"
    }
   ],
   "source": [
    "# histogram of the data distribution\n",
    "\n",
    "values = [num_songs[element] for element in years]\n",
    "plt.bar(years , values , align='center')\n",
    "plt.xlabel(\"Year\")\n",
    "plt.ylabel(\"Number of songs\")\n",
    "\n"
   ]
  },
  {
   "cell_type": "markdown",
   "metadata": {},
   "source": [
    "We can see that the number of songs is increasing exponentially over the years and there is a pic in the 2020s "
   ]
  },
  {
   "cell_type": "markdown",
   "metadata": {},
   "source": [
    "#### Part III: Data Cleaning/Preprocessing\n",
    "null values\n",
    "missing values"
   ]
  },
  {
   "cell_type": "markdown",
   "metadata": {},
   "source": [
    "##### Normalization"
   ]
  },
  {
   "cell_type": "markdown",
   "metadata": {},
   "source": [
    "Let's normalize the features and shift the year values starting from 0 (recommended in learning problems)"
   ]
  },
  {
   "cell_type": "code",
   "execution_count": 11,
   "metadata": {},
   "outputs": [],
   "source": [
    "# data normalizations (scaling down all values to the interval [0,1])\n",
    "# The years 1922-2011 are scaled down to integers [0,1,2,..., 89] \n",
    "a = X.min()\n",
    "b = X.max()\n",
    "X = (X - a) / (b - a)  # all values now between 0 and 1 !\n",
    "y = y - y.min()        # The years 1922-2011 are mapped to 0-89"
   ]
  },
  {
   "cell_type": "code",
   "execution_count": null,
   "metadata": {},
   "outputs": [],
   "source": []
  },
  {
   "cell_type": "code",
   "execution_count": 12,
   "metadata": {},
   "outputs": [
    {
     "data": {
      "text/html": [
       "<div>\n",
       "<style scoped>\n",
       "    .dataframe tbody tr th:only-of-type {\n",
       "        vertical-align: middle;\n",
       "    }\n",
       "\n",
       "    .dataframe tbody tr th {\n",
       "        vertical-align: top;\n",
       "    }\n",
       "\n",
       "    .dataframe thead th {\n",
       "        text-align: right;\n",
       "    }\n",
       "</style>\n",
       "<table border=\"1\" class=\"dataframe\">\n",
       "  <thead>\n",
       "    <tr style=\"text-align: right;\">\n",
       "      <th></th>\n",
       "      <th>t1</th>\n",
       "      <th>t2</th>\n",
       "      <th>t3</th>\n",
       "      <th>t4</th>\n",
       "      <th>t5</th>\n",
       "      <th>t6</th>\n",
       "      <th>t7</th>\n",
       "      <th>t8</th>\n",
       "      <th>t9</th>\n",
       "      <th>t10</th>\n",
       "      <th>...</th>\n",
       "      <th>t82</th>\n",
       "      <th>t83</th>\n",
       "      <th>t84</th>\n",
       "      <th>t85</th>\n",
       "      <th>t86</th>\n",
       "      <th>t87</th>\n",
       "      <th>t88</th>\n",
       "      <th>t89</th>\n",
       "      <th>t90</th>\n",
       "      <th>year</th>\n",
       "    </tr>\n",
       "  </thead>\n",
       "  <tbody>\n",
       "    <tr>\n",
       "      <th>0</th>\n",
       "      <td>0.185014</td>\n",
       "      <td>0.184660</td>\n",
       "      <td>0.185301</td>\n",
       "      <td>0.184503</td>\n",
       "      <td>0.184178</td>\n",
       "      <td>0.184232</td>\n",
       "      <td>0.184084</td>\n",
       "      <td>0.184242</td>\n",
       "      <td>0.184491</td>\n",
       "      <td>0.184363</td>\n",
       "      <td>...</td>\n",
       "      <td>0.183719</td>\n",
       "      <td>0.185126</td>\n",
       "      <td>0.184585</td>\n",
       "      <td>0.184408</td>\n",
       "      <td>0.184108</td>\n",
       "      <td>0.185243</td>\n",
       "      <td>0.184371</td>\n",
       "      <td>0.184053</td>\n",
       "      <td>0.184422</td>\n",
       "      <td>79</td>\n",
       "    </tr>\n",
       "    <tr>\n",
       "      <th>1</th>\n",
       "      <td>0.184999</td>\n",
       "      <td>0.184623</td>\n",
       "      <td>0.185267</td>\n",
       "      <td>0.184555</td>\n",
       "      <td>0.184266</td>\n",
       "      <td>0.184086</td>\n",
       "      <td>0.184503</td>\n",
       "      <td>0.184383</td>\n",
       "      <td>0.184627</td>\n",
       "      <td>0.184451</td>\n",
       "      <td>...</td>\n",
       "      <td>0.184150</td>\n",
       "      <td>0.184804</td>\n",
       "      <td>0.184926</td>\n",
       "      <td>0.184271</td>\n",
       "      <td>0.183994</td>\n",
       "      <td>0.185269</td>\n",
       "      <td>0.184544</td>\n",
       "      <td>0.185119</td>\n",
       "      <td>0.184728</td>\n",
       "      <td>79</td>\n",
       "    </tr>\n",
       "    <tr>\n",
       "      <th>2</th>\n",
       "      <td>0.185026</td>\n",
       "      <td>0.184789</td>\n",
       "      <td>0.185087</td>\n",
       "      <td>0.184561</td>\n",
       "      <td>0.184312</td>\n",
       "      <td>0.184164</td>\n",
       "      <td>0.184353</td>\n",
       "      <td>0.184365</td>\n",
       "      <td>0.184593</td>\n",
       "      <td>0.184411</td>\n",
       "      <td>...</td>\n",
       "      <td>0.184717</td>\n",
       "      <td>0.183762</td>\n",
       "      <td>0.184530</td>\n",
       "      <td>0.184393</td>\n",
       "      <td>0.184930</td>\n",
       "      <td>0.182967</td>\n",
       "      <td>0.184393</td>\n",
       "      <td>0.184886</td>\n",
       "      <td>0.184386</td>\n",
       "      <td>79</td>\n",
       "    </tr>\n",
       "    <tr>\n",
       "      <th>3</th>\n",
       "      <td>0.184993</td>\n",
       "      <td>0.184371</td>\n",
       "      <td>0.184844</td>\n",
       "      <td>0.184426</td>\n",
       "      <td>0.184406</td>\n",
       "      <td>0.184069</td>\n",
       "      <td>0.184457</td>\n",
       "      <td>0.184266</td>\n",
       "      <td>0.184438</td>\n",
       "      <td>0.184315</td>\n",
       "      <td>...</td>\n",
       "      <td>0.182264</td>\n",
       "      <td>0.184184</td>\n",
       "      <td>0.183815</td>\n",
       "      <td>0.184239</td>\n",
       "      <td>0.185419</td>\n",
       "      <td>0.183500</td>\n",
       "      <td>0.184517</td>\n",
       "      <td>0.186871</td>\n",
       "      <td>0.184628</td>\n",
       "      <td>79</td>\n",
       "    </tr>\n",
       "    <tr>\n",
       "      <th>4</th>\n",
       "      <td>0.185026</td>\n",
       "      <td>0.184918</td>\n",
       "      <td>0.185227</td>\n",
       "      <td>0.184499</td>\n",
       "      <td>0.184197</td>\n",
       "      <td>0.184185</td>\n",
       "      <td>0.184239</td>\n",
       "      <td>0.184278</td>\n",
       "      <td>0.184551</td>\n",
       "      <td>0.184406</td>\n",
       "      <td>...</td>\n",
       "      <td>0.183700</td>\n",
       "      <td>0.185200</td>\n",
       "      <td>0.184174</td>\n",
       "      <td>0.184376</td>\n",
       "      <td>0.184301</td>\n",
       "      <td>0.185036</td>\n",
       "      <td>0.184492</td>\n",
       "      <td>0.185085</td>\n",
       "      <td>0.184751</td>\n",
       "      <td>79</td>\n",
       "    </tr>\n",
       "  </tbody>\n",
       "</table>\n",
       "<p>5 rows × 91 columns</p>\n",
       "</div>"
      ],
      "text/plain": [
       "         t1        t2        t3        t4        t5        t6        t7  \\\n",
       "0  0.185014  0.184660  0.185301  0.184503  0.184178  0.184232  0.184084   \n",
       "1  0.184999  0.184623  0.185267  0.184555  0.184266  0.184086  0.184503   \n",
       "2  0.185026  0.184789  0.185087  0.184561  0.184312  0.184164  0.184353   \n",
       "3  0.184993  0.184371  0.184844  0.184426  0.184406  0.184069  0.184457   \n",
       "4  0.185026  0.184918  0.185227  0.184499  0.184197  0.184185  0.184239   \n",
       "\n",
       "         t8        t9       t10  ...       t82       t83       t84       t85  \\\n",
       "0  0.184242  0.184491  0.184363  ...  0.183719  0.185126  0.184585  0.184408   \n",
       "1  0.184383  0.184627  0.184451  ...  0.184150  0.184804  0.184926  0.184271   \n",
       "2  0.184365  0.184593  0.184411  ...  0.184717  0.183762  0.184530  0.184393   \n",
       "3  0.184266  0.184438  0.184315  ...  0.182264  0.184184  0.183815  0.184239   \n",
       "4  0.184278  0.184551  0.184406  ...  0.183700  0.185200  0.184174  0.184376   \n",
       "\n",
       "        t86       t87       t88       t89       t90  year  \n",
       "0  0.184108  0.185243  0.184371  0.184053  0.184422    79  \n",
       "1  0.183994  0.185269  0.184544  0.185119  0.184728    79  \n",
       "2  0.184930  0.182967  0.184393  0.184886  0.184386    79  \n",
       "3  0.185419  0.183500  0.184517  0.186871  0.184628    79  \n",
       "4  0.184301  0.185036  0.184492  0.185085  0.184751    79  \n",
       "\n",
       "[5 rows x 91 columns]"
      ]
     },
     "execution_count": 12,
     "metadata": {},
     "output_type": "execute_result"
    }
   ],
   "source": [
    "# creating a new data frame of normalized data\n",
    "data_nrm = pd.DataFrame(X, columns=features[1:] )\n",
    "data_nrm[\"year\"]=y\n",
    "\n",
    "data_nrm.head()\n"
   ]
  },
  {
   "cell_type": "code",
   "execution_count": 14,
   "metadata": {},
   "outputs": [
    {
     "data": {
      "text/plain": [
       "<matplotlib.legend.Legend at 0x7fb161d07e50>"
      ]
     },
     "execution_count": 14,
     "metadata": {},
     "output_type": "execute_result"
    },
    {
     "data": {
      "image/png": "[encoded data removed]",
      "text/plain": [
       "<Figure size 432x288 with 1 Axes>"
      ]
     },
     "metadata": {
      "needs_background": "light"
     },
     "output_type": "display_data"
    }
   ],
   "source": [
    "# let's look at the features again beween 4 and 20\n",
    "for t in range(4,20):\n",
    "    values = X[:,t] #.as_matrix()\n",
    "    #print(values)\n",
    "    plt.plot(sorted(values), label=t, linewidth=1)\n",
    "\n",
    "plt.legend(loc='upper center', bbox_to_anchor=(0.4, 1.04), ncol=3, fancybox=True, shadow=True)\n",
    "\n",
    "# values are indeed between 0 and 1"
   ]
  },
  {
   "cell_type": "code",
   "execution_count": 15,
   "metadata": {},
   "outputs": [
    {
     "data": {
      "text/plain": [
       "Text(0.5, 1.0, 'song 1600 to 1614 distribution')"
      ]
     },
     "execution_count": 15,
     "metadata": {},
     "output_type": "execute_result"
    },
    {
     "data": {
      "image/png": "[encoded data removed]",
      "text/plain": [
       "<Figure size 432x288 with 1 Axes>"
      ]
     },
     "metadata": {
      "needs_background": "light"
     },
     "output_type": "display_data"
    }
   ],
   "source": [
    "\n",
    "# Let's plot 15 samples of X (from item 1600 to item 1615)\n",
    "for i in range(1600, 1615):\n",
    "    plt.plot(X[i], label='song_' + str(i))\n",
    "    \n",
    "plt.xlabel(\"Feature\")\n",
    "plt.ylabel(\"Value\")\n",
    "plt.legend(loc='upper center', bbox_to_anchor=(0.8, 0.9), ncol=5, fancybox=True, shadow=True, fontsize=7)\n",
    "plt.title(\"song 1600 to 1614 distribution\")"
   ]
  },
  {
   "cell_type": "code",
   "execution_count": 8,
   "metadata": {},
   "outputs": [
    {
     "data": {
      "text/plain": [
       "Text(0.5, 1.0, 'release year for each instance')"
      ]
     },
     "execution_count": 8,
     "metadata": {},
     "output_type": "execute_result"
    },
    {
     "data": {
      "image/png": "[encoded data removed]",
      "text/plain": [
       "<Figure size 432x288 with 1 Axes>"
      ]
     },
     "metadata": {
      "needs_background": "light"
     },
     "output_type": "display_data"
    }
   ],
   "source": [
    "# the year values:\n",
    "plt.plot(sorted(y))\n",
    "plt.title(\"release year for each instance\")\n",
    "# WE CAN see that it goes from 0 to 89"
   ]
  },
  {
   "cell_type": "markdown",
   "metadata": {},
   "source": [
    "##### Analyzing of the missing values and null values"
   ]
  },
  {
   "cell_type": "code",
   "execution_count": 17,
   "metadata": {},
   "outputs": [
    {
     "data": {
      "text/plain": [
       "0"
      ]
     },
     "execution_count": 17,
     "metadata": {},
     "output_type": "execute_result"
    }
   ],
   "source": [
    "# let's see for the different columns/features if they have missing values\n",
    "data.isnull().sum().sum()\n"
   ]
  },
  {
   "cell_type": "code",
   "execution_count": 18,
   "metadata": {},
   "outputs": [
    {
     "data": {
      "text/plain": [
       "0"
      ]
     },
     "execution_count": 18,
     "metadata": {},
     "output_type": "execute_result"
    }
   ],
   "source": [
    "# our dataset does not have any NULL or missing  value \n",
    "data.isna().sum().sum()"
   ]
  },
  {
   "cell_type": "code",
   "execution_count": 19,
   "metadata": {},
   "outputs": [
    {
     "data": {
      "text/plain": [
       "4"
      ]
     },
     "execution_count": 19,
     "metadata": {},
     "output_type": "execute_result"
    }
   ],
   "source": [
    "# values equal to zero\n",
    "(data==0).sum().sum()\n",
    "# we only have 4 values equal to zero, we consider it small given the 515k*90 elements in our dataframe"
   ]
  },
  {
   "cell_type": "markdown",
   "metadata": {},
   "source": [
    "##### find duplicate column values and remove them if they are\n"
   ]
  },
  {
   "cell_type": "code",
   "execution_count": 20,
   "metadata": {},
   "outputs": [
    {
     "data": {
      "text/plain": [
       "Index(['year', 't1', 't2', 't3', 't4', 't5', 't6', 't7', 't8', 't9', 't10',\n",
       "       't11', 't12', 't13', 't14', 't15', 't16', 't17', 't18', 't19', 't20',\n",
       "       't21', 't22', 't23', 't24', 't25', 't26', 't27', 't28', 't29', 't30',\n",
       "       't31', 't32', 't33', 't34', 't35', 't36', 't37', 't38', 't39', 't40',\n",
       "       't41', 't42', 't43', 't44', 't45', 't46', 't47', 't48', 't49', 't50',\n",
       "       't51', 't52', 't53', 't54', 't55', 't56', 't57', 't58', 't59', 't60',\n",
       "       't61', 't62', 't63', 't64', 't65', 't66', 't67', 't68', 't69', 't70',\n",
       "       't71', 't72', 't73', 't74', 't75', 't76', 't77', 't78', 't79', 't80',\n",
       "       't81', 't82', 't83', 't84', 't85', 't86', 't87', 't88', 't89', 't90'],\n",
       "      dtype='object')"
      ]
     },
     "execution_count": 20,
     "metadata": {},
     "output_type": "execute_result"
    }
   ],
   "source": [
    "data_nw = data.T.drop_duplicates().T\n",
    "data_nw.columns\n"
   ]
  },
  {
   "cell_type": "code",
   "execution_count": 21,
   "metadata": {},
   "outputs": [],
   "source": [
    "# we can see that we still have the 90 features, so no feature is a duplicate of another"
   ]
  },
  {
   "cell_type": "markdown",
   "metadata": {},
   "source": [
    "##### Variation of each feature\n",
    "we will see the variation (variance or standard deviation) of the features before and after normalization"
   ]
  },
  {
   "cell_type": "code",
   "execution_count": 22,
   "metadata": {},
   "outputs": [],
   "source": [
    "# let's compute the variance in the data of each feature in the dataset:\n",
    "#data.var()"
   ]
  },
  {
   "cell_type": "code",
   "execution_count": 23,
   "metadata": {},
   "outputs": [],
   "source": [
    "#data.describe()"
   ]
  },
  {
   "cell_type": "code",
   "execution_count": 24,
   "metadata": {},
   "outputs": [],
   "source": [
    "std_dt = pd.DataFrame(X).describe()\n",
    "#std_dt"
   ]
  },
  {
   "cell_type": "code",
   "execution_count": 25,
   "metadata": {},
   "outputs": [
    {
     "data": {
      "text/plain": [
       "Text(0.5, 1.0, 'standard deviation for each feature')"
      ]
     },
     "execution_count": 25,
     "metadata": {},
     "output_type": "execute_result"
    },
    {
     "data": {
      "image/png": "[encoded data removed]",
      "text/plain": [
       "<Figure size 432x288 with 1 Axes>"
      ]
     },
     "metadata": {
      "needs_background": "light"
     },
     "output_type": "display_data"
    }
   ],
   "source": [
    "plt.plot(std_dt.loc['std'])\n",
    "plt.title(\"standard deviation for each feature\")"
   ]
  },
  {
   "cell_type": "code",
   "execution_count": 27,
   "metadata": {},
   "outputs": [],
   "source": [
    "a= pd.DataFrame(std_dt.loc['std'] ) #, columns=\"std\")\n",
    "a[\"feat\"] = range(1,91)\n",
    "b = a.sort_values('std', ascending=False )\n",
    "#a"
   ]
  },
  {
   "cell_type": "code",
   "execution_count": 29,
   "metadata": {},
   "outputs": [
    {
     "data": {
      "text/html": [
       "<div>\n",
       "<style scoped>\n",
       "    .dataframe tbody tr th:only-of-type {\n",
       "        vertical-align: middle;\n",
       "    }\n",
       "\n",
       "    .dataframe tbody tr th {\n",
       "        vertical-align: top;\n",
       "    }\n",
       "\n",
       "    .dataframe thead th {\n",
       "        text-align: right;\n",
       "    }\n",
       "</style>\n",
       "<table border=\"1\" class=\"dataframe\">\n",
       "  <thead>\n",
       "    <tr style=\"text-align: right;\">\n",
       "      <th></th>\n",
       "      <th>std</th>\n",
       "      <th>feat</th>\n",
       "    </tr>\n",
       "  </thead>\n",
       "  <tbody>\n",
       "    <tr>\n",
       "      <th>13</th>\n",
       "      <td>0.021705</td>\n",
       "      <td>14</td>\n",
       "    </tr>\n",
       "    <tr>\n",
       "      <th>14</th>\n",
       "      <td>0.015652</td>\n",
       "      <td>15</td>\n",
       "    </tr>\n",
       "    <tr>\n",
       "      <th>15</th>\n",
       "      <td>0.013559</td>\n",
       "      <td>16</td>\n",
       "    </tr>\n",
       "    <tr>\n",
       "      <th>25</th>\n",
       "      <td>0.008881</td>\n",
       "      <td>26</td>\n",
       "    </tr>\n",
       "    <tr>\n",
       "      <th>17</th>\n",
       "      <td>0.007157</td>\n",
       "      <td>18</td>\n",
       "    </tr>\n",
       "  </tbody>\n",
       "</table>\n",
       "</div>"
      ],
      "text/plain": [
       "         std  feat\n",
       "13  0.021705    14\n",
       "14  0.015652    15\n",
       "15  0.013559    16\n",
       "25  0.008881    26\n",
       "17  0.007157    18"
      ]
     },
     "execution_count": 29,
     "metadata": {},
     "output_type": "execute_result"
    }
   ],
   "source": [
    "b.head()"
   ]
  },
  {
   "cell_type": "code",
   "execution_count": 85,
   "metadata": {},
   "outputs": [],
   "source": [
    "# there are some features that present a lot of variance, but as the features represent timbre average and\n",
    "# timbre covariance, they might be useful to our problem and help in different ways\n"
   ]
  },
  {
   "cell_type": "code",
   "execution_count": null,
   "metadata": {},
   "outputs": [],
   "source": [
    "# after normalization, it looks like the variance in the different features stays the same and is just rescaled\n",
    "# may be to delete"
   ]
  },
  {
   "cell_type": "markdown",
   "metadata": {},
   "source": [
    "#### Part II: Feature Analysis & Selection\n",
    "which features to select and why?"
   ]
  },
  {
   "cell_type": "markdown",
   "metadata": {},
   "source": [
    "Feature importance refers to techniques that assign a score to input features based on how useful they are at predicting a target variable."
   ]
  },
  {
   "cell_type": "code",
   "execution_count": 30,
   "metadata": {},
   "outputs": [
    {
     "name": "stderr",
     "output_type": "stream",
     "text": [
      "/Users/vickyyounang/opt/anaconda3/lib/python3.7/site-packages/statsmodels/tools/_testing.py:19: FutureWarning: pandas.util.testing is deprecated. Use the functions in the public API at pandas.testing instead.\n",
      "  import pandas.util.testing as tm\n"
     ]
    },
    {
     "data": {
      "image/png": "[encoded data removed]",
      "text/plain": [
       "<Figure size 432x288 with 2 Axes>"
      ]
     },
     "metadata": {
      "needs_background": "light"
     },
     "output_type": "display_data"
    }
   ],
   "source": [
    "import seaborn as sns\n",
    "# let's see if there are correlation between the features and some more relevant than others\n",
    "\n",
    "feat_corr = pd.DataFrame(X).corr()\n",
    "ax1 = sns.heatmap(feat_corr, cmap='Blues')\n",
    "plt.show()\n"
   ]
  },
  {
   "cell_type": "markdown",
   "metadata": {},
   "source": [
    "We can see that there might be a strong correlation between the features around feature 12 and feature 24;\n",
    "let's try to determine relevant factors \n",
    "\n",
    "Let's compute the importance of each factor to the independent variable, year\n"
   ]
  },
  {
   "cell_type": "code",
   "execution_count": null,
   "metadata": {},
   "outputs": [],
   "source": []
  },
  {
   "cell_type": "code",
   "execution_count": 51,
   "metadata": {},
   "outputs": [
    {
     "name": "stdout",
     "output_type": "stream",
     "text": [
      "    feature         score\n",
      "0       1.0  70556.490249\n",
      "12     13.0   3789.207540\n",
      "84     85.0   2106.547023\n",
      "9      10.0   2020.508501\n",
      "75     76.0   1225.970393\n",
      "..      ...           ...\n",
      "1       2.0  -4539.823347\n",
      "8       9.0  -5679.936290\n",
      "7       8.0  -8132.090486\n",
      "10     11.0 -13355.293591\n",
      "5       6.0 -17737.225401\n",
      "\n",
      "[90 rows x 2 columns]\n"
     ]
    },
    {
     "data": {
      "image/png": "[encoded data removed]",
      "text/plain": [
       "<Figure size 432x288 with 1 Axes>"
      ]
     },
     "metadata": {
      "needs_background": "light"
     },
     "output_type": "display_data"
    }
   ],
   "source": [
    "# let's use the linear reg model to compute the scores\n",
    "model = LinearRegression()\n",
    "\n",
    "# fitting the model into the dataset\n",
    "model.fit(X,y)\n",
    "\n",
    "# get the features'importance/coefficients\n",
    "importance = model.coef_\n",
    "\n",
    "scores_df = pd.DataFrame(columns=[\"feature\",\"score\"])\n",
    "\n",
    "# summarize feature importance\n",
    "for i,v in enumerate(importance):\n",
    "    scores_df.loc[len(scores_df)] = [i+1,v]\n",
    "    #print('Feature: %0d, Score: %.5f' % (i,v))\n",
    "    \n",
    "scores_df = scores_df.sort_values('score', ascending=False )\n",
    "print (scores_df)\n",
    "# plot feature importance\n",
    "plt.bar([x for x in range(len(importance))], importance)\n",
    "plt.title(\"linear regression features importance/coef\")\n",
    "plt.show()\n"
   ]
  },
  {
   "cell_type": "code",
   "execution_count": 52,
   "metadata": {},
   "outputs": [
    {
     "data": {
      "text/html": [
       "<div>\n",
       "<style scoped>\n",
       "    .dataframe tbody tr th:only-of-type {\n",
       "        vertical-align: middle;\n",
       "    }\n",
       "\n",
       "    .dataframe tbody tr th {\n",
       "        vertical-align: top;\n",
       "    }\n",
       "\n",
       "    .dataframe thead th {\n",
       "        text-align: right;\n",
       "    }\n",
       "</style>\n",
       "<table border=\"1\" class=\"dataframe\">\n",
       "  <thead>\n",
       "    <tr style=\"text-align: right;\">\n",
       "      <th></th>\n",
       "      <th>feature</th>\n",
       "      <th>score</th>\n",
       "    </tr>\n",
       "  </thead>\n",
       "  <tbody>\n",
       "    <tr>\n",
       "      <th>6</th>\n",
       "      <td>7.0</td>\n",
       "      <td>-543.161762</td>\n",
       "    </tr>\n",
       "    <tr>\n",
       "      <th>62</th>\n",
       "      <td>63.0</td>\n",
       "      <td>-626.124374</td>\n",
       "    </tr>\n",
       "    <tr>\n",
       "      <th>4</th>\n",
       "      <td>5.0</td>\n",
       "      <td>-1188.560874</td>\n",
       "    </tr>\n",
       "    <tr>\n",
       "      <th>87</th>\n",
       "      <td>88.0</td>\n",
       "      <td>-2514.405118</td>\n",
       "    </tr>\n",
       "    <tr>\n",
       "      <th>2</th>\n",
       "      <td>3.0</td>\n",
       "      <td>-3518.004452</td>\n",
       "    </tr>\n",
       "    <tr>\n",
       "      <th>1</th>\n",
       "      <td>2.0</td>\n",
       "      <td>-4539.823347</td>\n",
       "    </tr>\n",
       "    <tr>\n",
       "      <th>8</th>\n",
       "      <td>9.0</td>\n",
       "      <td>-5679.936290</td>\n",
       "    </tr>\n",
       "    <tr>\n",
       "      <th>7</th>\n",
       "      <td>8.0</td>\n",
       "      <td>-8132.090486</td>\n",
       "    </tr>\n",
       "    <tr>\n",
       "      <th>10</th>\n",
       "      <td>11.0</td>\n",
       "      <td>-13355.293591</td>\n",
       "    </tr>\n",
       "    <tr>\n",
       "      <th>5</th>\n",
       "      <td>6.0</td>\n",
       "      <td>-17737.225401</td>\n",
       "    </tr>\n",
       "  </tbody>\n",
       "</table>\n",
       "</div>"
      ],
      "text/plain": [
       "    feature         score\n",
       "6       7.0   -543.161762\n",
       "62     63.0   -626.124374\n",
       "4       5.0  -1188.560874\n",
       "87     88.0  -2514.405118\n",
       "2       3.0  -3518.004452\n",
       "1       2.0  -4539.823347\n",
       "8       9.0  -5679.936290\n",
       "7       8.0  -8132.090486\n",
       "10     11.0 -13355.293591\n",
       "5       6.0 -17737.225401"
      ]
     },
     "execution_count": 52,
     "metadata": {},
     "output_type": "execute_result"
    }
   ],
   "source": [
    "scores_df.tail(10)"
   ]
  },
  {
   "cell_type": "markdown",
   "metadata": {},
   "source": [
    "It says in the documentation, the i-th feature importance is calculated as the difference between loss(model with i-th feature excluded) - loss(model).\n",
    "\n",
    "So a negative feature importance value means that feature makes my loss go up?\n",
    "\n",
    "***\n",
    "\n",
    "Negative feature importance value means that feature makes the loss go up. This means that your model is not getting good use of this feature. This might mean that your model is underfit (not enough iteration and it has not used the feature enough) or that the feature is not good and you can try removing it to improve final quality.\n"
   ]
  },
  {
   "cell_type": "code",
   "execution_count": 41,
   "metadata": {},
   "outputs": [
    {
     "data": {
      "text/plain": [
       "(515345,)"
      ]
     },
     "execution_count": 41,
     "metadata": {},
     "output_type": "execute_result"
    }
   ],
   "source": [
    "# another method:\n",
    "# calculate simple coefficient statistics between each feature and the target variable.\n",
    "# Statistics for Filter Feature Selection Methods\n",
    "# Numerical Input, Numerical Output\n",
    "\n",
    "# the most popular methods are to use correlation coefficient, such as Pearson’s for a linear correlation, \n",
    "# or rank-based methods for a nonlinear correlation (Spearman’s rank coefficient). \n"
   ]
  },
  {
   "cell_type": "code",
   "execution_count": 53,
   "metadata": {},
   "outputs": [],
   "source": [
    "# let's try the pearson method; performed using Pearson’s Correlation Coefficient via the f_regression() function in sklearn\n",
    "from sklearn.feature_selection import SelectKBest\n",
    "from sklearn.feature_selection import f_regression\n",
    "\n",
    "# generate dataset\n",
    "#X, y = make_regression(n_samples=100, n_features=100, n_informative=10)\n",
    "# define feature selection\n",
    "fs = SelectKBest(score_func=f_regression, k=65)\n",
    "# apply feature selection\n",
    "X_selected = fs.fit_transform(X, y)\n",
    "#print(X_selected.shape)\n"
   ]
  },
  {
   "cell_type": "code",
   "execution_count": 151,
   "metadata": {},
   "outputs": [],
   "source": [
    "# fs.scores_\n"
   ]
  },
  {
   "cell_type": "code",
   "execution_count": 54,
   "metadata": {},
   "outputs": [],
   "source": [
    "filter = fs.get_support()\n",
    "feature = np.array(features[1:])\n",
    "#print(filter)\n",
    "\n",
    "#print(\"All features:\")\n",
    "#print(feature)\n",
    " \n",
    "#print(\"Selected best 65:\")\n",
    "#print(feature[filter])\n",
    "#print(X_selected) "
   ]
  },
  {
   "cell_type": "code",
   "execution_count": 49,
   "metadata": {},
   "outputs": [
    {
     "data": {
      "text/plain": [
       "0.18242300449707174"
      ]
     },
     "execution_count": 49,
     "metadata": {},
     "output_type": "execute_result"
    }
   ],
   "source": [
    "# maximal penalty yielding nonzero coefficients for the lasso\n",
    "np.abs(X.T.dot(y)).max() / (X.shape[0]*X.shape[1])"
   ]
  },
  {
   "cell_type": "code",
   "execution_count": null,
   "metadata": {},
   "outputs": [],
   "source": [
    "\n"
   ]
  },
  {
   "cell_type": "code",
   "execution_count": 74,
   "metadata": {},
   "outputs": [
    {
     "name": "stdout",
     "output_type": "stream",
     "text": [
      "    feature     score\n",
      "0       1.0  0.786421\n",
      "12     13.0  0.039590\n",
      "84     85.0  0.023022\n",
      "75     76.0  0.011336\n",
      "22     23.0  0.007185\n",
      "..      ...       ...\n",
      "7       8.0 -0.030794\n",
      "8       9.0 -0.034224\n",
      "2       3.0 -0.043258\n",
      "1       2.0 -0.047651\n",
      "5       6.0 -0.186056\n",
      "\n",
      "[90 rows x 2 columns]\n"
     ]
    },
    {
     "data": {
      "image/png": "[encoded data removed]",
      "text/plain": [
       "<Figure size 432x288 with 1 Axes>"
      ]
     },
     "metadata": {
      "needs_background": "light"
     },
     "output_type": "display_data"
    }
   ],
   "source": [
    "# fitting lasso and seeing the coef\n",
    "from sklearn.linear_model import Lasso\n",
    "\n",
    "# let's use the Lasso reg model to compute the scores; alpha=0 ==simple linear reg\n",
    "model2 = Lasso(alpha=1)\n",
    "\n",
    "# fitting the model into the dataset\n",
    "model2.fit(X,y)\n",
    "\n",
    "# get the features'importance/coefficients\n",
    "importance = model2.coef_\n",
    "\n",
    "scores_df = pd.DataFrame(columns=[\"feature\",\"score\"])\n",
    "\n",
    "# summarize feature importance\n",
    "for i,v in enumerate(importance):\n",
    "    scores_df.loc[len(scores_df)] = [i+1,v]\n",
    "    #print('Feature: %0d, Score: %.5f' % (i,v))\n",
    "    \n",
    "scores_df = scores_df.sort_values('score', ascending=False )\n",
    "print (scores_df)\n",
    "# plot feature importance\n",
    "plt.bar([x for x in range(len(importance))], importance)\n",
    "plt.xlabel(\"features\")\n",
    "plt.title(\"Lasso linear regression features importance/coef\")\n",
    "plt.show()\n"
   ]
  },
  {
   "cell_type": "code",
   "execution_count": 65,
   "metadata": {},
   "outputs": [
    {
     "name": "stdout",
     "output_type": "stream",
     "text": [
      "   0\n",
      "0  1\n",
      "1  2\n",
      "2  3\n"
     ]
    }
   ],
   "source": [
    "empty_dataframe = pd. DataFrame()\n",
    "list_dataframe = pd. DataFrame([1, 2, 3])\n",
    "result_dataframe = empty_dataframe. append(list_dataframe)\n",
    "print(result_dataframe)"
   ]
  },
  {
   "cell_type": "code",
   "execution_count": 75,
   "metadata": {},
   "outputs": [
    {
     "data": {
      "text/html": [
       "<div>\n",
       "<style scoped>\n",
       "    .dataframe tbody tr th:only-of-type {\n",
       "        vertical-align: middle;\n",
       "    }\n",
       "\n",
       "    .dataframe tbody tr th {\n",
       "        vertical-align: top;\n",
       "    }\n",
       "\n",
       "    .dataframe thead th {\n",
       "        text-align: right;\n",
       "    }\n",
       "</style>\n",
       "<table border=\"1\" class=\"dataframe\">\n",
       "  <thead>\n",
       "    <tr style=\"text-align: right;\">\n",
       "      <th></th>\n",
       "      <th>feature</th>\n",
       "      <th>score</th>\n",
       "    </tr>\n",
       "  </thead>\n",
       "  <tbody>\n",
       "    <tr>\n",
       "      <th>62</th>\n",
       "      <td>63.0</td>\n",
       "      <td>-0.006520</td>\n",
       "    </tr>\n",
       "    <tr>\n",
       "      <th>4</th>\n",
       "      <td>5.0</td>\n",
       "      <td>-0.009582</td>\n",
       "    </tr>\n",
       "    <tr>\n",
       "      <th>3</th>\n",
       "      <td>4.0</td>\n",
       "      <td>-0.012048</td>\n",
       "    </tr>\n",
       "    <tr>\n",
       "      <th>11</th>\n",
       "      <td>12.0</td>\n",
       "      <td>-0.019379</td>\n",
       "    </tr>\n",
       "    <tr>\n",
       "      <th>87</th>\n",
       "      <td>88.0</td>\n",
       "      <td>-0.022459</td>\n",
       "    </tr>\n",
       "    <tr>\n",
       "      <th>7</th>\n",
       "      <td>8.0</td>\n",
       "      <td>-0.030794</td>\n",
       "    </tr>\n",
       "    <tr>\n",
       "      <th>8</th>\n",
       "      <td>9.0</td>\n",
       "      <td>-0.034224</td>\n",
       "    </tr>\n",
       "    <tr>\n",
       "      <th>2</th>\n",
       "      <td>3.0</td>\n",
       "      <td>-0.043258</td>\n",
       "    </tr>\n",
       "    <tr>\n",
       "      <th>1</th>\n",
       "      <td>2.0</td>\n",
       "      <td>-0.047651</td>\n",
       "    </tr>\n",
       "    <tr>\n",
       "      <th>5</th>\n",
       "      <td>6.0</td>\n",
       "      <td>-0.186056</td>\n",
       "    </tr>\n",
       "  </tbody>\n",
       "</table>\n",
       "</div>"
      ],
      "text/plain": [
       "    feature     score\n",
       "62     63.0 -0.006520\n",
       "4       5.0 -0.009582\n",
       "3       4.0 -0.012048\n",
       "11     12.0 -0.019379\n",
       "87     88.0 -0.022459\n",
       "7       8.0 -0.030794\n",
       "8       9.0 -0.034224\n",
       "2       3.0 -0.043258\n",
       "1       2.0 -0.047651\n",
       "5       6.0 -0.186056"
      ]
     },
     "execution_count": 75,
     "metadata": {},
     "output_type": "execute_result"
    }
   ],
   "source": [
    "scores_df.tail(10)"
   ]
  },
  {
   "cell_type": "code",
   "execution_count": null,
   "metadata": {},
   "outputs": [],
   "source": []
  },
  {
   "cell_type": "code",
   "execution_count": null,
   "metadata": {},
   "outputs": [],
   "source": []
  },
  {
   "cell_type": "code",
   "execution_count": 34,
   "metadata": {},
   "outputs": [],
   "source": [
    "# Pearson correlation"
   ]
  },
  {
   "cell_type": "code",
   "execution_count": 35,
   "metadata": {},
   "outputs": [],
   "source": [
    "corr_p   = data_nrm.corr(method=\"pearson\")\n",
    "#corr_p"
   ]
  },
  {
   "cell_type": "code",
   "execution_count": null,
   "metadata": {},
   "outputs": [],
   "source": []
  },
  {
   "cell_type": "code",
   "execution_count": 36,
   "metadata": {},
   "outputs": [
    {
     "data": {
      "text/plain": [
       "Text(0.5, 1.0, 'Features pearson correlation to target value')"
      ]
     },
     "execution_count": 36,
     "metadata": {},
     "output_type": "execute_result"
    },
    {
     "data": {
      "image/png": "[encoded data removed]",
      "text/plain": [
       "<Figure size 432x288 with 1 Axes>"
      ]
     },
     "metadata": {
      "needs_background": "light"
     },
     "output_type": "display_data"
    }
   ],
   "source": [
    "b = corr_p.loc[\"year\"][:90]\n",
    "# plt.plot(b)\n",
    "\n",
    "feat = range(1,91)\n",
    "plt.bar(feat , np.array(b) , align='center')\n",
    "plt.xlabel(\"Year\")\n",
    "plt.ylabel(\"Number of songs\")\n",
    "plt.title(\"Features pearson correlation to target value\")\n"
   ]
  },
  {
   "cell_type": "code",
   "execution_count": 41,
   "metadata": {},
   "outputs": [
    {
     "data": {
      "text/plain": [
       "t6    -0.187443\n",
       "t3    -0.139541\n",
       "t63   -0.126348\n",
       "t40   -0.123974\n",
       "t67   -0.102841\n",
       "t46   -0.101324\n",
       "t36   -0.101007\n",
       "t69   -0.099484\n",
       "t12   -0.097164\n",
       "t57   -0.096973\n",
       "Name: year, dtype: float64"
      ]
     },
     "execution_count": 41,
     "metadata": {},
     "output_type": "execute_result"
    }
   ],
   "source": [
    "b.sort_values().head(10)"
   ]
  },
  {
   "cell_type": "code",
   "execution_count": null,
   "metadata": {},
   "outputs": [],
   "source": [
    "#spearman correlation"
   ]
  },
  {
   "cell_type": "code",
   "execution_count": 42,
   "metadata": {},
   "outputs": [],
   "source": [
    "corrrelation_p    = data_nrm.corr(method=\"spearman\");"
   ]
  },
  {
   "cell_type": "code",
   "execution_count": 43,
   "metadata": {},
   "outputs": [],
   "source": [
    "#corrrelation_p"
   ]
  },
  {
   "cell_type": "code",
   "execution_count": 44,
   "metadata": {},
   "outputs": [
    {
     "data": {
      "text/plain": [
       "Text(0.5, 1.0, 'Features spearman correlation to target value')"
      ]
     },
     "execution_count": 44,
     "metadata": {},
     "output_type": "execute_result"
    },
    {
     "data": {
      "image/png": "[encoded data removed]",
      "text/plain": [
       "<Figure size 432x288 with 1 Axes>"
      ]
     },
     "metadata": {
      "needs_background": "light"
     },
     "output_type": "display_data"
    }
   ],
   "source": [
    "b = corrrelation_p.loc[\"year\"][:90]\n",
    "# plt.plot(b)\n",
    "\n",
    "feat = range(1,91)\n",
    "plt.bar(feat , np.array(b) , align='center')\n",
    "plt.xlabel(\"Year\")\n",
    "plt.ylabel(\"Number of songs\")\n",
    "plt.title(\"Features spearman correlation to target value\")"
   ]
  },
  {
   "cell_type": "code",
   "execution_count": 45,
   "metadata": {},
   "outputs": [
    {
     "data": {
      "text/plain": [
       "t6    -0.168484\n",
       "t63   -0.163859\n",
       "t46   -0.130360\n",
       "t41   -0.119465\n",
       "t33   -0.114609\n",
       "t3    -0.112734\n",
       "t40   -0.110417\n",
       "t57   -0.108535\n",
       "t69   -0.107472\n",
       "t36   -0.101749\n",
       "Name: year, dtype: float64"
      ]
     },
     "execution_count": 45,
     "metadata": {},
     "output_type": "execute_result"
    }
   ],
   "source": [
    "b.sort_values().head(10)"
   ]
  },
  {
   "cell_type": "code",
   "execution_count": null,
   "metadata": {},
   "outputs": [],
   "source": []
  },
  {
   "cell_type": "markdown",
   "metadata": {},
   "source": [
    "#### Part IV: DATA TRANSFORMATION & MODELS USED\n",
    "Feature Scaling"
   ]
  },
  {
   "cell_type": "markdown",
   "metadata": {},
   "source": [
    "In this part, given that we already scaled the features (for values between 0 and 1), we are only going to talk about the models we will use for our regression problem\n",
    "\n",
    "we plan on using the lasso linear regression and the polynomial ridge regression for different selection of features and compare the results \n",
    "\n",
    "we talked more about the different models in the report\n",
    "\n",
    "before training the models, let's palliate to the imbalance in the dataset\n",
    "\n",
    "we will use the Borderline-SMOTE SVM technique \n",
    "Another variation of Borderline-SMOTE is Borderline-SMOTE SVM, or we could just call it SVM-SMOTE.\n",
    "The main differences between SVM-SMOTE and the other SMOTE are that instead of using K-nearest neighbors to identify the misclassification in the Borderline-SMOTE, the technique would incorporate the SVM algorithm"
   ]
  },
  {
   "cell_type": "code",
   "execution_count": 38,
   "metadata": {},
   "outputs": [
    {
     "data": {
      "text/html": [
       "<div>\n",
       "<style scoped>\n",
       "    .dataframe tbody tr th:only-of-type {\n",
       "        vertical-align: middle;\n",
       "    }\n",
       "\n",
       "    .dataframe tbody tr th {\n",
       "        vertical-align: top;\n",
       "    }\n",
       "\n",
       "    .dataframe thead th {\n",
       "        text-align: right;\n",
       "    }\n",
       "</style>\n",
       "<table border=\"1\" class=\"dataframe\">\n",
       "  <thead>\n",
       "    <tr style=\"text-align: right;\">\n",
       "      <th></th>\n",
       "      <th>t1</th>\n",
       "      <th>t2</th>\n",
       "      <th>t3</th>\n",
       "      <th>t4</th>\n",
       "      <th>t5</th>\n",
       "      <th>t6</th>\n",
       "      <th>t7</th>\n",
       "      <th>t8</th>\n",
       "      <th>t9</th>\n",
       "      <th>t10</th>\n",
       "      <th>...</th>\n",
       "      <th>t81</th>\n",
       "      <th>t82</th>\n",
       "      <th>t83</th>\n",
       "      <th>t84</th>\n",
       "      <th>t85</th>\n",
       "      <th>t86</th>\n",
       "      <th>t87</th>\n",
       "      <th>t88</th>\n",
       "      <th>t89</th>\n",
       "      <th>t90</th>\n",
       "    </tr>\n",
       "  </thead>\n",
       "  <tbody>\n",
       "    <tr>\n",
       "      <th>0</th>\n",
       "      <td>0.185014</td>\n",
       "      <td>0.184660</td>\n",
       "      <td>0.185301</td>\n",
       "      <td>0.184503</td>\n",
       "      <td>0.184178</td>\n",
       "      <td>0.184232</td>\n",
       "      <td>0.184084</td>\n",
       "      <td>0.184242</td>\n",
       "      <td>0.184491</td>\n",
       "      <td>0.184363</td>\n",
       "      <td>...</td>\n",
       "      <td>0.184556</td>\n",
       "      <td>0.183719</td>\n",
       "      <td>0.185126</td>\n",
       "      <td>0.184585</td>\n",
       "      <td>0.184408</td>\n",
       "      <td>0.184108</td>\n",
       "      <td>0.185243</td>\n",
       "      <td>0.184371</td>\n",
       "      <td>0.184053</td>\n",
       "      <td>0.184422</td>\n",
       "    </tr>\n",
       "    <tr>\n",
       "      <th>1</th>\n",
       "      <td>0.184999</td>\n",
       "      <td>0.184623</td>\n",
       "      <td>0.185267</td>\n",
       "      <td>0.184555</td>\n",
       "      <td>0.184266</td>\n",
       "      <td>0.184086</td>\n",
       "      <td>0.184503</td>\n",
       "      <td>0.184383</td>\n",
       "      <td>0.184627</td>\n",
       "      <td>0.184451</td>\n",
       "      <td>...</td>\n",
       "      <td>0.184464</td>\n",
       "      <td>0.184150</td>\n",
       "      <td>0.184804</td>\n",
       "      <td>0.184926</td>\n",
       "      <td>0.184271</td>\n",
       "      <td>0.183994</td>\n",
       "      <td>0.185269</td>\n",
       "      <td>0.184544</td>\n",
       "      <td>0.185119</td>\n",
       "      <td>0.184728</td>\n",
       "    </tr>\n",
       "    <tr>\n",
       "      <th>2</th>\n",
       "      <td>0.185026</td>\n",
       "      <td>0.184789</td>\n",
       "      <td>0.185087</td>\n",
       "      <td>0.184561</td>\n",
       "      <td>0.184312</td>\n",
       "      <td>0.184164</td>\n",
       "      <td>0.184353</td>\n",
       "      <td>0.184365</td>\n",
       "      <td>0.184593</td>\n",
       "      <td>0.184411</td>\n",
       "      <td>...</td>\n",
       "      <td>0.184432</td>\n",
       "      <td>0.184717</td>\n",
       "      <td>0.183762</td>\n",
       "      <td>0.184530</td>\n",
       "      <td>0.184393</td>\n",
       "      <td>0.184930</td>\n",
       "      <td>0.182967</td>\n",
       "      <td>0.184393</td>\n",
       "      <td>0.184886</td>\n",
       "      <td>0.184386</td>\n",
       "    </tr>\n",
       "    <tr>\n",
       "      <th>3</th>\n",
       "      <td>0.184993</td>\n",
       "      <td>0.184371</td>\n",
       "      <td>0.184844</td>\n",
       "      <td>0.184426</td>\n",
       "      <td>0.184406</td>\n",
       "      <td>0.184069</td>\n",
       "      <td>0.184457</td>\n",
       "      <td>0.184266</td>\n",
       "      <td>0.184438</td>\n",
       "      <td>0.184315</td>\n",
       "      <td>...</td>\n",
       "      <td>0.184823</td>\n",
       "      <td>0.182264</td>\n",
       "      <td>0.184184</td>\n",
       "      <td>0.183815</td>\n",
       "      <td>0.184239</td>\n",
       "      <td>0.185419</td>\n",
       "      <td>0.183500</td>\n",
       "      <td>0.184517</td>\n",
       "      <td>0.186871</td>\n",
       "      <td>0.184628</td>\n",
       "    </tr>\n",
       "    <tr>\n",
       "      <th>4</th>\n",
       "      <td>0.185026</td>\n",
       "      <td>0.184918</td>\n",
       "      <td>0.185227</td>\n",
       "      <td>0.184499</td>\n",
       "      <td>0.184197</td>\n",
       "      <td>0.184185</td>\n",
       "      <td>0.184239</td>\n",
       "      <td>0.184278</td>\n",
       "      <td>0.184551</td>\n",
       "      <td>0.184406</td>\n",
       "      <td>...</td>\n",
       "      <td>0.184517</td>\n",
       "      <td>0.183700</td>\n",
       "      <td>0.185200</td>\n",
       "      <td>0.184174</td>\n",
       "      <td>0.184376</td>\n",
       "      <td>0.184301</td>\n",
       "      <td>0.185036</td>\n",
       "      <td>0.184492</td>\n",
       "      <td>0.185085</td>\n",
       "      <td>0.184751</td>\n",
       "    </tr>\n",
       "    <tr>\n",
       "      <th>...</th>\n",
       "      <td>...</td>\n",
       "      <td>...</td>\n",
       "      <td>...</td>\n",
       "      <td>...</td>\n",
       "      <td>...</td>\n",
       "      <td>...</td>\n",
       "      <td>...</td>\n",
       "      <td>...</td>\n",
       "      <td>...</td>\n",
       "      <td>...</td>\n",
       "      <td>...</td>\n",
       "      <td>...</td>\n",
       "      <td>...</td>\n",
       "      <td>...</td>\n",
       "      <td>...</td>\n",
       "      <td>...</td>\n",
       "      <td>...</td>\n",
       "      <td>...</td>\n",
       "      <td>...</td>\n",
       "      <td>...</td>\n",
       "      <td>...</td>\n",
       "    </tr>\n",
       "    <tr>\n",
       "      <th>515340</th>\n",
       "      <td>0.185030</td>\n",
       "      <td>0.184963</td>\n",
       "      <td>0.184669</td>\n",
       "      <td>0.184325</td>\n",
       "      <td>0.184349</td>\n",
       "      <td>0.184191</td>\n",
       "      <td>0.184420</td>\n",
       "      <td>0.184458</td>\n",
       "      <td>0.184286</td>\n",
       "      <td>0.184427</td>\n",
       "      <td>...</td>\n",
       "      <td>0.184454</td>\n",
       "      <td>0.184347</td>\n",
       "      <td>0.184010</td>\n",
       "      <td>0.184721</td>\n",
       "      <td>0.184332</td>\n",
       "      <td>0.184665</td>\n",
       "      <td>0.182629</td>\n",
       "      <td>0.184437</td>\n",
       "      <td>0.183884</td>\n",
       "      <td>0.184202</td>\n",
       "    </tr>\n",
       "    <tr>\n",
       "      <th>515341</th>\n",
       "      <td>0.185013</td>\n",
       "      <td>0.184865</td>\n",
       "      <td>0.184626</td>\n",
       "      <td>0.184349</td>\n",
       "      <td>0.184050</td>\n",
       "      <td>0.184164</td>\n",
       "      <td>0.184490</td>\n",
       "      <td>0.184438</td>\n",
       "      <td>0.184363</td>\n",
       "      <td>0.184421</td>\n",
       "      <td>...</td>\n",
       "      <td>0.184796</td>\n",
       "      <td>0.183988</td>\n",
       "      <td>0.183637</td>\n",
       "      <td>0.185097</td>\n",
       "      <td>0.184584</td>\n",
       "      <td>0.185584</td>\n",
       "      <td>0.184262</td>\n",
       "      <td>0.184555</td>\n",
       "      <td>0.185537</td>\n",
       "      <td>0.184529</td>\n",
       "    </tr>\n",
       "    <tr>\n",
       "      <th>515342</th>\n",
       "      <td>0.184954</td>\n",
       "      <td>0.184551</td>\n",
       "      <td>0.183914</td>\n",
       "      <td>0.184503</td>\n",
       "      <td>0.184031</td>\n",
       "      <td>0.184366</td>\n",
       "      <td>0.184166</td>\n",
       "      <td>0.184118</td>\n",
       "      <td>0.184338</td>\n",
       "      <td>0.184252</td>\n",
       "      <td>...</td>\n",
       "      <td>0.184162</td>\n",
       "      <td>0.183511</td>\n",
       "      <td>0.182856</td>\n",
       "      <td>0.185899</td>\n",
       "      <td>0.184529</td>\n",
       "      <td>0.184824</td>\n",
       "      <td>0.181309</td>\n",
       "      <td>0.184319</td>\n",
       "      <td>0.185064</td>\n",
       "      <td>0.184294</td>\n",
       "    </tr>\n",
       "    <tr>\n",
       "      <th>515343</th>\n",
       "      <td>0.184942</td>\n",
       "      <td>0.184796</td>\n",
       "      <td>0.184352</td>\n",
       "      <td>0.184363</td>\n",
       "      <td>0.184151</td>\n",
       "      <td>0.184162</td>\n",
       "      <td>0.184503</td>\n",
       "      <td>0.184444</td>\n",
       "      <td>0.184245</td>\n",
       "      <td>0.184385</td>\n",
       "      <td>...</td>\n",
       "      <td>0.185227</td>\n",
       "      <td>0.187903</td>\n",
       "      <td>0.184337</td>\n",
       "      <td>0.186181</td>\n",
       "      <td>0.184662</td>\n",
       "      <td>0.184025</td>\n",
       "      <td>0.185281</td>\n",
       "      <td>0.184646</td>\n",
       "      <td>0.184578</td>\n",
       "      <td>0.184887</td>\n",
       "    </tr>\n",
       "    <tr>\n",
       "      <th>515344</th>\n",
       "      <td>0.185037</td>\n",
       "      <td>0.185128</td>\n",
       "      <td>0.184722</td>\n",
       "      <td>0.184326</td>\n",
       "      <td>0.184137</td>\n",
       "      <td>0.184146</td>\n",
       "      <td>0.184311</td>\n",
       "      <td>0.184423</td>\n",
       "      <td>0.184522</td>\n",
       "      <td>0.184472</td>\n",
       "      <td>...</td>\n",
       "      <td>0.184251</td>\n",
       "      <td>0.183536</td>\n",
       "      <td>0.185146</td>\n",
       "      <td>0.184749</td>\n",
       "      <td>0.184340</td>\n",
       "      <td>0.183593</td>\n",
       "      <td>0.183828</td>\n",
       "      <td>0.184326</td>\n",
       "      <td>0.184796</td>\n",
       "      <td>0.184545</td>\n",
       "    </tr>\n",
       "  </tbody>\n",
       "</table>\n",
       "<p>515345 rows × 90 columns</p>\n",
       "</div>"
      ],
      "text/plain": [
       "              t1        t2        t3        t4        t5        t6        t7  \\\n",
       "0       0.185014  0.184660  0.185301  0.184503  0.184178  0.184232  0.184084   \n",
       "1       0.184999  0.184623  0.185267  0.184555  0.184266  0.184086  0.184503   \n",
       "2       0.185026  0.184789  0.185087  0.184561  0.184312  0.184164  0.184353   \n",
       "3       0.184993  0.184371  0.184844  0.184426  0.184406  0.184069  0.184457   \n",
       "4       0.185026  0.184918  0.185227  0.184499  0.184197  0.184185  0.184239   \n",
       "...          ...       ...       ...       ...       ...       ...       ...   \n",
       "515340  0.185030  0.184963  0.184669  0.184325  0.184349  0.184191  0.184420   \n",
       "515341  0.185013  0.184865  0.184626  0.184349  0.184050  0.184164  0.184490   \n",
       "515342  0.184954  0.184551  0.183914  0.184503  0.184031  0.184366  0.184166   \n",
       "515343  0.184942  0.184796  0.184352  0.184363  0.184151  0.184162  0.184503   \n",
       "515344  0.185037  0.185128  0.184722  0.184326  0.184137  0.184146  0.184311   \n",
       "\n",
       "              t8        t9       t10  ...       t81       t82       t83  \\\n",
       "0       0.184242  0.184491  0.184363  ...  0.184556  0.183719  0.185126   \n",
       "1       0.184383  0.184627  0.184451  ...  0.184464  0.184150  0.184804   \n",
       "2       0.184365  0.184593  0.184411  ...  0.184432  0.184717  0.183762   \n",
       "3       0.184266  0.184438  0.184315  ...  0.184823  0.182264  0.184184   \n",
       "4       0.184278  0.184551  0.184406  ...  0.184517  0.183700  0.185200   \n",
       "...          ...       ...       ...  ...       ...       ...       ...   \n",
       "515340  0.184458  0.184286  0.184427  ...  0.184454  0.184347  0.184010   \n",
       "515341  0.184438  0.184363  0.184421  ...  0.184796  0.183988  0.183637   \n",
       "515342  0.184118  0.184338  0.184252  ...  0.184162  0.183511  0.182856   \n",
       "515343  0.184444  0.184245  0.184385  ...  0.185227  0.187903  0.184337   \n",
       "515344  0.184423  0.184522  0.184472  ...  0.184251  0.183536  0.185146   \n",
       "\n",
       "             t84       t85       t86       t87       t88       t89       t90  \n",
       "0       0.184585  0.184408  0.184108  0.185243  0.184371  0.184053  0.184422  \n",
       "1       0.184926  0.184271  0.183994  0.185269  0.184544  0.185119  0.184728  \n",
       "2       0.184530  0.184393  0.184930  0.182967  0.184393  0.184886  0.184386  \n",
       "3       0.183815  0.184239  0.185419  0.183500  0.184517  0.186871  0.184628  \n",
       "4       0.184174  0.184376  0.184301  0.185036  0.184492  0.185085  0.184751  \n",
       "...          ...       ...       ...       ...       ...       ...       ...  \n",
       "515340  0.184721  0.184332  0.184665  0.182629  0.184437  0.183884  0.184202  \n",
       "515341  0.185097  0.184584  0.185584  0.184262  0.184555  0.185537  0.184529  \n",
       "515342  0.185899  0.184529  0.184824  0.181309  0.184319  0.185064  0.184294  \n",
       "515343  0.186181  0.184662  0.184025  0.185281  0.184646  0.184578  0.184887  \n",
       "515344  0.184749  0.184340  0.183593  0.183828  0.184326  0.184796  0.184545  \n",
       "\n",
       "[515345 rows x 90 columns]"
      ]
     },
     "execution_count": 38,
     "metadata": {},
     "output_type": "execute_result"
    }
   ],
   "source": [
    "#data_nrm.iloc[:,:-1]"
   ]
  },
  {
   "cell_type": "code",
   "execution_count": 22,
   "metadata": {},
   "outputs": [
    {
     "name": "stdout",
     "output_type": "stream",
     "text": [
      "Explained variation per PC: [0.46912909 0.1444523 ]\n"
     ]
    }
   ],
   "source": [
    "# before the smote, PCA representation\n",
    "from sklearn.decomposition import PCA\n",
    "pca_song = PCA(n_components=2)\n",
    "principalComponents_song = pca_song.fit_transform(data_nrm.iloc[:,:-1])\n",
    "\n",
    "#df holding the 2 PCA\n",
    "principal_song_Df = pd.DataFrame(data = principalComponents_song, columns = ['PC1', 'PC2'])\n",
    "\n",
    "# explained variation of each PC\n",
    "print('Explained variation per PC: {}'.format(pca_song.explained_variance_ratio_))\n",
    "\n"
   ]
  },
  {
   "cell_type": "code",
   "execution_count": null,
   "metadata": {},
   "outputs": [],
   "source": [
    "# cumulative explained variance of the 2 PC is NOT VERY high\n",
    "# representation\n",
    "plt.figure()\n",
    "plt.figure(figsize=(10,10))\n",
    "plt.xticks(fontsize=12)\n",
    "plt.yticks(fontsize=14)\n",
    "plt.xlabel('PC-1',fontsize=20)\n",
    "plt.ylabel('PC-2',fontsize=20)\n",
    "plt.title(\"Principal Component Analysis of Year Song Dataset\",fontsize=20)\n",
    "targets = range(0,89)\n",
    "# (r, g, b) = colorsys.hsv_to_rgb(hue, 1.0, 1.0)\n",
    "# R, G, B = int(255 * r), int(255 * g), int(255 * b)\n",
    "# colors = ['r', 'g']\n",
    "colors =cm.rainbow(np.linspace(0,1,90))\n",
    "#colors = range(0,89)\n",
    "for target, color in zip(targets,colors):\n",
    "    indicesToKeep = data_nrm['year'] == target\n",
    "    plt.scatter(principal_song_Df.loc[indicesToKeep, 'PC1']\n",
    "               , principal_song_Df.loc[indicesToKeep, 'PC2'], c = color, s = 50)\n",
    "\n",
    "plt.legend(targets,prop={'size': 15})"
   ]
  },
  {
   "cell_type": "markdown",
   "metadata": {},
   "source": [
    "The PCA did not really show us the distribution of the number of songs per year; the pca was mostly dominated by songs in the 20's (logic given the dataset); so we are just going to use a bar chart to see the number of songs per year after using the smote technique"
   ]
  },
  {
   "cell_type": "code",
   "execution_count": 7,
   "metadata": {},
   "outputs": [],
   "source": []
  },
  {
   "cell_type": "code",
   "execution_count": 1,
   "metadata": {},
   "outputs": [],
   "source": [
    "#SMOTEr  technique for reg\n",
    "import smogn\n",
    "#X_s = smogn.smoter (\n",
    "#    \n",
    "#    ## primary arguments / inputs\n",
    "#    data_nrm ,                     ## training set  (pandas dataframe)\n",
    "#    'year',                        ## response variable y by name  (string)\n",
    "#    k = 3,                    ## num of neighs for over-sampling  (pos int)\n",
    "#    samp_method = \"extreme\",  ## % over / under sample  (\"balance\" or extreme\")\n",
    "#    drop_na_col = True,       ## auto drop columns with nan's  (bool)\n",
    "#    drop_na_row = True,       ## auto drop rows with nan's  (bool)\n",
    "#    replace = False   ,       ## sampling replacement  (bool)\n",
    "    \n",
    "    ## phi relevance function arguments / inputs\n",
    "#    rel_thres = 0.5          ## relevance threshold considered rare  (pos real)\n",
    "    #rel_method = \"auto\",      ## relevance method  (\"auto\" or \"manual\")\n",
    "    #rel_xtrm_type = \"both\",   ## distribution focus  (\"high\", \"low\", \"both\")\n",
    "    #rel_coef = 1.5,           ## coefficient for box plot  (pos real)\n",
    "    #rel_ctrl_pts_rg = None    ## input for \"manual\" rel method  (2d array)\n",
    "    \n",
    "#    )\n"
   ]
  },
  {
   "cell_type": "markdown",
   "metadata": {},
   "source": [
    "We ended up not using the SMOTE TECHNIQUE, given the time consuming it would take to create more example from the rare year song. moreover, because of the size of the dataset, even undersampling was time consuming\n",
    "\n",
    "instead, we will use Cross validation technique"
   ]
  },
  {
   "cell_type": "code",
   "execution_count": null,
   "metadata": {},
   "outputs": [],
   "source": [
    "data_sm.shape"
   ]
  },
  {
   "cell_type": "markdown",
   "metadata": {},
   "source": [
    "#### Part V: EXPERIMENTS & MODEL RESULTS\n",
    "    for each model use : lasso regression and polynomial ridge regression\n",
    "    "
   ]
  },
  {
   "cell_type": "code",
   "execution_count": 9,
   "metadata": {},
   "outputs": [
    {
     "data": {
      "text/html": [
       "<div>\n",
       "<style scoped>\n",
       "    .dataframe tbody tr th:only-of-type {\n",
       "        vertical-align: middle;\n",
       "    }\n",
       "\n",
       "    .dataframe tbody tr th {\n",
       "        vertical-align: top;\n",
       "    }\n",
       "\n",
       "    .dataframe thead th {\n",
       "        text-align: right;\n",
       "    }\n",
       "</style>\n",
       "<table border=\"1\" class=\"dataframe\">\n",
       "  <thead>\n",
       "    <tr style=\"text-align: right;\">\n",
       "      <th></th>\n",
       "      <th>t1</th>\n",
       "      <th>t2</th>\n",
       "      <th>t4</th>\n",
       "      <th>t7</th>\n",
       "      <th>t10</th>\n",
       "      <th>t11</th>\n",
       "      <th>t13</th>\n",
       "      <th>t16</th>\n",
       "      <th>t17</th>\n",
       "      <th>t18</th>\n",
       "      <th>...</th>\n",
       "      <th>t81</th>\n",
       "      <th>t82</th>\n",
       "      <th>t83</th>\n",
       "      <th>t84</th>\n",
       "      <th>t85</th>\n",
       "      <th>t86</th>\n",
       "      <th>t87</th>\n",
       "      <th>t89</th>\n",
       "      <th>t90</th>\n",
       "      <th>year</th>\n",
       "    </tr>\n",
       "  </thead>\n",
       "  <tbody>\n",
       "    <tr>\n",
       "      <th>0</th>\n",
       "      <td>0.185014</td>\n",
       "      <td>0.184660</td>\n",
       "      <td>0.184503</td>\n",
       "      <td>0.184084</td>\n",
       "      <td>0.184363</td>\n",
       "      <td>0.184435</td>\n",
       "      <td>0.184521</td>\n",
       "      <td>0.193056</td>\n",
       "      <td>0.189468</td>\n",
       "      <td>0.189155</td>\n",
       "      <td>...</td>\n",
       "      <td>0.184556</td>\n",
       "      <td>0.183719</td>\n",
       "      <td>0.185126</td>\n",
       "      <td>0.184585</td>\n",
       "      <td>0.184408</td>\n",
       "      <td>0.184108</td>\n",
       "      <td>0.185243</td>\n",
       "      <td>0.184053</td>\n",
       "      <td>0.184422</td>\n",
       "      <td>79</td>\n",
       "    </tr>\n",
       "    <tr>\n",
       "      <th>1</th>\n",
       "      <td>0.184999</td>\n",
       "      <td>0.184623</td>\n",
       "      <td>0.184555</td>\n",
       "      <td>0.184503</td>\n",
       "      <td>0.184451</td>\n",
       "      <td>0.184422</td>\n",
       "      <td>0.184945</td>\n",
       "      <td>0.190069</td>\n",
       "      <td>0.194036</td>\n",
       "      <td>0.189551</td>\n",
       "      <td>...</td>\n",
       "      <td>0.184464</td>\n",
       "      <td>0.184150</td>\n",
       "      <td>0.184804</td>\n",
       "      <td>0.184926</td>\n",
       "      <td>0.184271</td>\n",
       "      <td>0.183994</td>\n",
       "      <td>0.185269</td>\n",
       "      <td>0.185119</td>\n",
       "      <td>0.184728</td>\n",
       "      <td>79</td>\n",
       "    </tr>\n",
       "    <tr>\n",
       "      <th>2</th>\n",
       "      <td>0.185026</td>\n",
       "      <td>0.184789</td>\n",
       "      <td>0.184561</td>\n",
       "      <td>0.184353</td>\n",
       "      <td>0.184411</td>\n",
       "      <td>0.184428</td>\n",
       "      <td>0.184487</td>\n",
       "      <td>0.191765</td>\n",
       "      <td>0.188808</td>\n",
       "      <td>0.190690</td>\n",
       "      <td>...</td>\n",
       "      <td>0.184432</td>\n",
       "      <td>0.184717</td>\n",
       "      <td>0.183762</td>\n",
       "      <td>0.184530</td>\n",
       "      <td>0.184393</td>\n",
       "      <td>0.184930</td>\n",
       "      <td>0.182967</td>\n",
       "      <td>0.184886</td>\n",
       "      <td>0.184386</td>\n",
       "      <td>79</td>\n",
       "    </tr>\n",
       "    <tr>\n",
       "      <th>3</th>\n",
       "      <td>0.184993</td>\n",
       "      <td>0.184371</td>\n",
       "      <td>0.184426</td>\n",
       "      <td>0.184457</td>\n",
       "      <td>0.184315</td>\n",
       "      <td>0.184476</td>\n",
       "      <td>0.184861</td>\n",
       "      <td>0.190092</td>\n",
       "      <td>0.193610</td>\n",
       "      <td>0.187239</td>\n",
       "      <td>...</td>\n",
       "      <td>0.184823</td>\n",
       "      <td>0.182264</td>\n",
       "      <td>0.184184</td>\n",
       "      <td>0.183815</td>\n",
       "      <td>0.184239</td>\n",
       "      <td>0.185419</td>\n",
       "      <td>0.183500</td>\n",
       "      <td>0.186871</td>\n",
       "      <td>0.184628</td>\n",
       "      <td>79</td>\n",
       "    </tr>\n",
       "    <tr>\n",
       "      <th>4</th>\n",
       "      <td>0.185026</td>\n",
       "      <td>0.184918</td>\n",
       "      <td>0.184499</td>\n",
       "      <td>0.184239</td>\n",
       "      <td>0.184406</td>\n",
       "      <td>0.184414</td>\n",
       "      <td>0.184981</td>\n",
       "      <td>0.188349</td>\n",
       "      <td>0.189792</td>\n",
       "      <td>0.188633</td>\n",
       "      <td>...</td>\n",
       "      <td>0.184517</td>\n",
       "      <td>0.183700</td>\n",
       "      <td>0.185200</td>\n",
       "      <td>0.184174</td>\n",
       "      <td>0.184376</td>\n",
       "      <td>0.184301</td>\n",
       "      <td>0.185036</td>\n",
       "      <td>0.185085</td>\n",
       "      <td>0.184751</td>\n",
       "      <td>79</td>\n",
       "    </tr>\n",
       "  </tbody>\n",
       "</table>\n",
       "<p>5 rows × 76 columns</p>\n",
       "</div>"
      ],
      "text/plain": [
       "         t1        t2        t4        t7       t10       t11       t13  \\\n",
       "0  0.185014  0.184660  0.184503  0.184084  0.184363  0.184435  0.184521   \n",
       "1  0.184999  0.184623  0.184555  0.184503  0.184451  0.184422  0.184945   \n",
       "2  0.185026  0.184789  0.184561  0.184353  0.184411  0.184428  0.184487   \n",
       "3  0.184993  0.184371  0.184426  0.184457  0.184315  0.184476  0.184861   \n",
       "4  0.185026  0.184918  0.184499  0.184239  0.184406  0.184414  0.184981   \n",
       "\n",
       "        t16       t17       t18  ...       t81       t82       t83       t84  \\\n",
       "0  0.193056  0.189468  0.189155  ...  0.184556  0.183719  0.185126  0.184585   \n",
       "1  0.190069  0.194036  0.189551  ...  0.184464  0.184150  0.184804  0.184926   \n",
       "2  0.191765  0.188808  0.190690  ...  0.184432  0.184717  0.183762  0.184530   \n",
       "3  0.190092  0.193610  0.187239  ...  0.184823  0.182264  0.184184  0.183815   \n",
       "4  0.188349  0.189792  0.188633  ...  0.184517  0.183700  0.185200  0.184174   \n",
       "\n",
       "        t85       t86       t87       t89       t90  year  \n",
       "0  0.184408  0.184108  0.185243  0.184053  0.184422    79  \n",
       "1  0.184271  0.183994  0.185269  0.185119  0.184728    79  \n",
       "2  0.184393  0.184930  0.182967  0.184886  0.184386    79  \n",
       "3  0.184239  0.185419  0.183500  0.186871  0.184628    79  \n",
       "4  0.184376  0.184301  0.185036  0.185085  0.184751    79  \n",
       "\n",
       "[5 rows x 76 columns]"
      ]
     },
     "execution_count": 9,
     "metadata": {},
     "output_type": "execute_result"
    }
   ],
   "source": [
    "# droping features irrelevant for us\n",
    "data_nrm.head()\n",
    "data_dp_nrm = data_nrm.drop(['t3','t5','t6','t8','t9','t12','t36','t40','t46','t57','t63','t69','t88','t14','t15'], axis=1)\n",
    "data_dp_nrm.head()"
   ]
  },
  {
   "cell_type": "code",
   "execution_count": 10,
   "metadata": {},
   "outputs": [],
   "source": [
    "# partitionning into training and testing set as said in the description:\n",
    "# Training data set\n",
    "X_train = data_dp_nrm.iloc[:,:-1][0:463715]\n",
    "y_train = data_dp_nrm[\"year\"][0:463715]\n",
    "\n",
    "# Validation data set\n",
    "X_test = data_dp_nrm.iloc[:,:-1][463715:]\n",
    "y_test = data_dp_nrm[\"year\"][463715:]"
   ]
  },
  {
   "cell_type": "code",
   "execution_count": 56,
   "metadata": {},
   "outputs": [],
   "source": [
    "#X_train.shape"
   ]
  },
  {
   "cell_type": "code",
   "execution_count": 57,
   "metadata": {},
   "outputs": [],
   "source": [
    "#y_train"
   ]
  },
  {
   "cell_type": "markdown",
   "metadata": {},
   "source": [
    "#### Lasso\n",
    "#### we tried different parameters\n",
    " => with all the features, best alpha =0 (simple linear reg, score (coef det =0.2374 -  0.24)) (param; variation of number of splits and n_repeats in kfold and n_iter from 1000 to 2000)\n",
    "        on the prediction of the test set we had those results:\n",
    "            Mean squared error: 91.26\n",
    "            Variance score: 0.24\n",
    "      perf on the training set: \n",
    "        Mean squared error: 94.24\n",
    "        Variance score: 0.24\n",
    "        \n",
    "            even with alphas with step 0.01, same accuracy as above\n",
    "            \n",
    " => features selected and removed, best alpha = 0 , best score (0.2016, for n_split =50, n_rep=50, n_iter=2000 )\n",
    "        with (n_split=10, n_repeat=5), best alpha =0, best score: 0.2016\n",
    "       Performance on the test set: \n",
    "       \n",
    "       Mean squared error: 94.68\n",
    "        Variance score: 0.20\n",
    "        \n",
    "        perf on the training set: \n",
    "        Mean squared error: 95.54\n",
    "        Variance score: 0.20"
   ]
  },
  {
   "cell_type": "code",
   "execution_count": 63,
   "metadata": {},
   "outputs": [
    {
     "name": "stderr",
     "output_type": "stream",
     "text": [
      "/Users/vickyyounang/opt/anaconda3/lib/python3.7/site-packages/sklearn/linear_model/_coordinate_descent.py:644: UserWarning: Coordinate descent with alpha=0 may lead to unexpected results and is discouraged.\n",
      "  positive,\n",
      "/Users/vickyyounang/opt/anaconda3/lib/python3.7/site-packages/sklearn/linear_model/_coordinate_descent.py:644: ConvergenceWarning: Objective did not converge. You might want to increase the number of iterations. Duality gap: 19934875.7914553, tolerance: 4990.458832083438\n",
      "  positive,\n",
      "/Users/vickyyounang/opt/anaconda3/lib/python3.7/site-packages/sklearn/linear_model/_coordinate_descent.py:644: UserWarning: Coordinate descent with alpha=0 may lead to unexpected results and is discouraged.\n",
      "  positive,\n",
      "/Users/vickyyounang/opt/anaconda3/lib/python3.7/site-packages/sklearn/linear_model/_coordinate_descent.py:644: UserWarning: Coordinate descent with alpha=0 may lead to unexpected results and is discouraged.\n",
      "  positive,\n",
      "/Users/vickyyounang/opt/anaconda3/lib/python3.7/site-packages/sklearn/linear_model/_coordinate_descent.py:644: UserWarning: Coordinate descent with alpha=0 may lead to unexpected results and is discouraged.\n",
      "  positive,\n",
      "/Users/vickyyounang/opt/anaconda3/lib/python3.7/site-packages/sklearn/linear_model/_coordinate_descent.py:644: ConvergenceWarning: Objective did not converge. You might want to increase the number of iterations. Duality gap: 19908194.989430193, tolerance: 4988.661147923886\n",
      "  positive,\n",
      "/Users/vickyyounang/opt/anaconda3/lib/python3.7/site-packages/sklearn/linear_model/_coordinate_descent.py:644: ConvergenceWarning: Objective did not converge. You might want to increase the number of iterations. Duality gap: 19952927.38601683, tolerance: 5001.100036451522\n",
      "  positive,\n",
      "/Users/vickyyounang/opt/anaconda3/lib/python3.7/site-packages/sklearn/linear_model/_coordinate_descent.py:644: ConvergenceWarning: Objective did not converge. You might want to increase the number of iterations. Duality gap: 19942193.74148065, tolerance: 4996.822629322624\n",
      "  positive,\n",
      "/Users/vickyyounang/opt/anaconda3/lib/python3.7/site-packages/sklearn/linear_model/_coordinate_descent.py:644: UserWarning: Coordinate descent with alpha=0 may lead to unexpected results and is discouraged.\n",
      "  positive,\n",
      "/Users/vickyyounang/opt/anaconda3/lib/python3.7/site-packages/sklearn/linear_model/_coordinate_descent.py:644: UserWarning: Coordinate descent with alpha=0 may lead to unexpected results and is discouraged.\n",
      "  positive,\n",
      "/Users/vickyyounang/opt/anaconda3/lib/python3.7/site-packages/sklearn/linear_model/_coordinate_descent.py:644: UserWarning: Coordinate descent with alpha=0 may lead to unexpected results and is discouraged.\n",
      "  positive,\n",
      "/Users/vickyyounang/opt/anaconda3/lib/python3.7/site-packages/sklearn/linear_model/_coordinate_descent.py:644: ConvergenceWarning: Objective did not converge. You might want to increase the number of iterations. Duality gap: 19913661.05051163, tolerance: 4989.747233935693\n",
      "  positive,\n",
      "/Users/vickyyounang/opt/anaconda3/lib/python3.7/site-packages/sklearn/linear_model/_coordinate_descent.py:644: ConvergenceWarning: Objective did not converge. You might want to increase the number of iterations. Duality gap: 19958419.799590394, tolerance: 4998.468199386486\n",
      "  positive,\n",
      "/Users/vickyyounang/opt/anaconda3/lib/python3.7/site-packages/sklearn/linear_model/_coordinate_descent.py:644: ConvergenceWarning: Objective did not converge. You might want to increase the number of iterations. Duality gap: 19944193.178656943, tolerance: 4998.372311032628\n",
      "  positive,\n",
      "/Users/vickyyounang/opt/anaconda3/lib/python3.7/site-packages/sklearn/linear_model/_coordinate_descent.py:644: UserWarning: Coordinate descent with alpha=0 may lead to unexpected results and is discouraged.\n",
      "  positive,\n",
      "/Users/vickyyounang/opt/anaconda3/lib/python3.7/site-packages/sklearn/linear_model/_coordinate_descent.py:644: ConvergenceWarning: Objective did not converge. You might want to increase the number of iterations. Duality gap: 19959809.91225372, tolerance: 5002.576607505531\n",
      "  positive,\n",
      "/Users/vickyyounang/opt/anaconda3/lib/python3.7/site-packages/sklearn/linear_model/_coordinate_descent.py:644: UserWarning: Coordinate descent with alpha=0 may lead to unexpected results and is discouraged.\n",
      "  positive,\n",
      "/Users/vickyyounang/opt/anaconda3/lib/python3.7/site-packages/sklearn/linear_model/_coordinate_descent.py:644: ConvergenceWarning: Objective did not converge. You might want to increase the number of iterations. Duality gap: 19916064.804308213, tolerance: 4987.755395338114\n",
      "  positive,\n",
      "/Users/vickyyounang/opt/anaconda3/lib/python3.7/site-packages/sklearn/linear_model/_coordinate_descent.py:644: UserWarning: Coordinate descent with alpha=0 may lead to unexpected results and is discouraged.\n",
      "  positive,\n",
      "/Users/vickyyounang/opt/anaconda3/lib/python3.7/site-packages/sklearn/linear_model/_coordinate_descent.py:644: ConvergenceWarning: Objective did not converge. You might want to increase the number of iterations. Duality gap: 19931504.335951127, tolerance: 4992.958156070564\n",
      "  positive,\n",
      "/Users/vickyyounang/opt/anaconda3/lib/python3.7/site-packages/sklearn/linear_model/_coordinate_descent.py:644: UserWarning: Coordinate descent with alpha=0 may lead to unexpected results and is discouraged.\n",
      "  positive,\n",
      "/Users/vickyyounang/opt/anaconda3/lib/python3.7/site-packages/sklearn/linear_model/_coordinate_descent.py:644: ConvergenceWarning: Objective did not converge. You might want to increase the number of iterations. Duality gap: 19958868.174041763, tolerance: 4998.215165550171\n",
      "  positive,\n",
      "/Users/vickyyounang/opt/anaconda3/lib/python3.7/site-packages/sklearn/linear_model/_coordinate_descent.py:644: UserWarning: Coordinate descent with alpha=0 may lead to unexpected results and is discouraged.\n",
      "  positive,\n",
      "/Users/vickyyounang/opt/anaconda3/lib/python3.7/site-packages/sklearn/linear_model/_coordinate_descent.py:644: ConvergenceWarning: Objective did not converge. You might want to increase the number of iterations. Duality gap: 19957048.65742482, tolerance: 5002.782211870317\n",
      "  positive,\n",
      "/Users/vickyyounang/opt/anaconda3/lib/python3.7/site-packages/sklearn/linear_model/_coordinate_descent.py:644: UserWarning: Coordinate descent with alpha=0 may lead to unexpected results and is discouraged.\n",
      "  positive,\n",
      "/Users/vickyyounang/opt/anaconda3/lib/python3.7/site-packages/sklearn/linear_model/_coordinate_descent.py:644: ConvergenceWarning: Objective did not converge. You might want to increase the number of iterations. Duality gap: 19919141.857936636, tolerance: 4988.065612547927\n",
      "  positive,\n",
      "/Users/vickyyounang/opt/anaconda3/lib/python3.7/site-packages/sklearn/linear_model/_coordinate_descent.py:644: UserWarning: Coordinate descent with alpha=0 may lead to unexpected results and is discouraged.\n",
      "  positive,\n",
      "/Users/vickyyounang/opt/anaconda3/lib/python3.7/site-packages/sklearn/linear_model/_coordinate_descent.py:644: ConvergenceWarning: Objective did not converge. You might want to increase the number of iterations. Duality gap: 19962550.155811876, tolerance: 4994.5770909386965\n",
      "  positive,\n",
      "/Users/vickyyounang/opt/anaconda3/lib/python3.7/site-packages/sklearn/linear_model/_coordinate_descent.py:644: UserWarning: Coordinate descent with alpha=0 may lead to unexpected results and is discouraged.\n",
      "  positive,\n",
      "/Users/vickyyounang/opt/anaconda3/lib/python3.7/site-packages/sklearn/linear_model/_coordinate_descent.py:644: ConvergenceWarning: Objective did not converge. You might want to increase the number of iterations. Duality gap: 19913662.98698044, tolerance: 4993.670104811187\n",
      "  positive,\n",
      "/Users/vickyyounang/opt/anaconda3/lib/python3.7/site-packages/sklearn/linear_model/_coordinate_descent.py:644: UserWarning: Coordinate descent with alpha=0 may lead to unexpected results and is discouraged.\n",
      "  positive,\n",
      "/Users/vickyyounang/opt/anaconda3/lib/python3.7/site-packages/sklearn/linear_model/_coordinate_descent.py:644: ConvergenceWarning: Objective did not converge. You might want to increase the number of iterations. Duality gap: 19936221.129676264, tolerance: 4997.662822725642\n",
      "  positive,\n",
      "/Users/vickyyounang/opt/anaconda3/lib/python3.7/site-packages/sklearn/linear_model/_coordinate_descent.py:644: UserWarning: Coordinate descent with alpha=0 may lead to unexpected results and is discouraged.\n",
      "  positive,\n",
      "/Users/vickyyounang/opt/anaconda3/lib/python3.7/site-packages/sklearn/linear_model/_coordinate_descent.py:644: ConvergenceWarning: Objective did not converge. You might want to increase the number of iterations. Duality gap: 19934542.336252876, tolerance: 4993.60364925242\n",
      "  positive,\n",
      "/Users/vickyyounang/opt/anaconda3/lib/python3.7/site-packages/sklearn/linear_model/_coordinate_descent.py:644: UserWarning: Coordinate descent with alpha=0 may lead to unexpected results and is discouraged.\n",
      "  positive,\n",
      "/Users/vickyyounang/opt/anaconda3/lib/python3.7/site-packages/sklearn/linear_model/_coordinate_descent.py:644: UserWarning: Coordinate descent with alpha=0 may lead to unexpected results and is discouraged.\n",
      "  positive,\n",
      "/Users/vickyyounang/opt/anaconda3/lib/python3.7/site-packages/sklearn/linear_model/_coordinate_descent.py:644: ConvergenceWarning: Objective did not converge. You might want to increase the number of iterations. Duality gap: 19950352.88296935, tolerance: 4997.07862710862\n",
      "  positive,\n",
      "/Users/vickyyounang/opt/anaconda3/lib/python3.7/site-packages/sklearn/linear_model/_coordinate_descent.py:644: ConvergenceWarning: Objective did not converge. You might want to increase the number of iterations. Duality gap: 19929107.061956808, tolerance: 4994.401281068636\n",
      "  positive,\n",
      "/Users/vickyyounang/opt/anaconda3/lib/python3.7/site-packages/sklearn/linear_model/_coordinate_descent.py:644: UserWarning: Coordinate descent with alpha=0 may lead to unexpected results and is discouraged.\n",
      "  positive,\n",
      "/Users/vickyyounang/opt/anaconda3/lib/python3.7/site-packages/sklearn/linear_model/_coordinate_descent.py:644: ConvergenceWarning: Objective did not converge. You might want to increase the number of iterations. Duality gap: 19900544.01252848, tolerance: 4986.868937733573\n",
      "  positive,\n"
     ]
    },
    {
     "name": "stderr",
     "output_type": "stream",
     "text": [
      "/Users/vickyyounang/opt/anaconda3/lib/python3.7/site-packages/sklearn/linear_model/_coordinate_descent.py:644: UserWarning: Coordinate descent with alpha=0 may lead to unexpected results and is discouraged.\n",
      "  positive,\n",
      "/Users/vickyyounang/opt/anaconda3/lib/python3.7/site-packages/sklearn/linear_model/_coordinate_descent.py:644: UserWarning: Coordinate descent with alpha=0 may lead to unexpected results and is discouraged.\n",
      "  positive,\n",
      "/Users/vickyyounang/opt/anaconda3/lib/python3.7/site-packages/sklearn/linear_model/_coordinate_descent.py:644: ConvergenceWarning: Objective did not converge. You might want to increase the number of iterations. Duality gap: 19975067.98383188, tolerance: 5004.989147725001\n",
      "  positive,\n",
      "/Users/vickyyounang/opt/anaconda3/lib/python3.7/site-packages/sklearn/linear_model/_coordinate_descent.py:644: ConvergenceWarning: Objective did not converge. You might want to increase the number of iterations. Duality gap: 19926325.178711504, tolerance: 4993.462209995218\n",
      "  positive,\n",
      "/Users/vickyyounang/opt/anaconda3/lib/python3.7/site-packages/sklearn/linear_model/_coordinate_descent.py:644: UserWarning: Coordinate descent with alpha=0 may lead to unexpected results and is discouraged.\n",
      "  positive,\n",
      "/Users/vickyyounang/opt/anaconda3/lib/python3.7/site-packages/sklearn/linear_model/_coordinate_descent.py:644: ConvergenceWarning: Objective did not converge. You might want to increase the number of iterations. Duality gap: 19891271.985561363, tolerance: 4982.086797514758\n",
      "  positive,\n",
      "/Users/vickyyounang/opt/anaconda3/lib/python3.7/site-packages/sklearn/linear_model/_coordinate_descent.py:644: UserWarning: Coordinate descent with alpha=0 may lead to unexpected results and is discouraged.\n",
      "  positive,\n",
      "/Users/vickyyounang/opt/anaconda3/lib/python3.7/site-packages/sklearn/linear_model/_coordinate_descent.py:644: ConvergenceWarning: Objective did not converge. You might want to increase the number of iterations. Duality gap: 19977983.191053808, tolerance: 5002.2039320065705\n",
      "  positive,\n",
      "/Users/vickyyounang/opt/anaconda3/lib/python3.7/site-packages/sklearn/linear_model/_coordinate_descent.py:644: UserWarning: Coordinate descent with alpha=0 may lead to unexpected results and is discouraged.\n",
      "  positive,\n",
      "/Users/vickyyounang/opt/anaconda3/lib/python3.7/site-packages/sklearn/linear_model/_coordinate_descent.py:644: ConvergenceWarning: Objective did not converge. You might want to increase the number of iterations. Duality gap: 19895014.962165214, tolerance: 4987.996632888555\n",
      "  positive,\n",
      "/Users/vickyyounang/opt/anaconda3/lib/python3.7/site-packages/sklearn/linear_model/_coordinate_descent.py:644: UserWarning: Coordinate descent with alpha=0 may lead to unexpected results and is discouraged.\n",
      "  positive,\n",
      "/Users/vickyyounang/opt/anaconda3/lib/python3.7/site-packages/sklearn/linear_model/_coordinate_descent.py:644: ConvergenceWarning: Objective did not converge. You might want to increase the number of iterations. Duality gap: 19940211.557416063, tolerance: 4995.755139483996\n",
      "  positive,\n",
      "/Users/vickyyounang/opt/anaconda3/lib/python3.7/site-packages/sklearn/linear_model/_coordinate_descent.py:644: UserWarning: Coordinate descent with alpha=0 may lead to unexpected results and is discouraged.\n",
      "  positive,\n",
      "/Users/vickyyounang/opt/anaconda3/lib/python3.7/site-packages/sklearn/linear_model/_coordinate_descent.py:644: UserWarning: Coordinate descent with alpha=0 may lead to unexpected results and is discouraged.\n",
      "  positive,\n",
      "/Users/vickyyounang/opt/anaconda3/lib/python3.7/site-packages/sklearn/linear_model/_coordinate_descent.py:644: ConvergenceWarning: Objective did not converge. You might want to increase the number of iterations. Duality gap: 19915323.298958376, tolerance: 4988.389350371905\n",
      "  positive,\n",
      "/Users/vickyyounang/opt/anaconda3/lib/python3.7/site-packages/sklearn/linear_model/_coordinate_descent.py:644: ConvergenceWarning: Objective did not converge. You might want to increase the number of iterations. Duality gap: 19930904.083051268, tolerance: 4994.466064782045\n",
      "  positive,\n",
      "/Users/vickyyounang/opt/anaconda3/lib/python3.7/site-packages/sklearn/linear_model/_coordinate_descent.py:644: UserWarning: Coordinate descent with alpha=0 may lead to unexpected results and is discouraged.\n",
      "  positive,\n",
      "/Users/vickyyounang/opt/anaconda3/lib/python3.7/site-packages/sklearn/linear_model/_coordinate_descent.py:644: ConvergenceWarning: Objective did not converge. You might want to increase the number of iterations. Duality gap: 19954780.24126301, tolerance: 4997.595533382329\n",
      "  positive,\n",
      "/Users/vickyyounang/opt/anaconda3/lib/python3.7/site-packages/sklearn/linear_model/_coordinate_descent.py:644: UserWarning: Coordinate descent with alpha=0 may lead to unexpected results and is discouraged.\n",
      "  positive,\n",
      "/Users/vickyyounang/opt/anaconda3/lib/python3.7/site-packages/sklearn/linear_model/_coordinate_descent.py:644: ConvergenceWarning: Objective did not converge. You might want to increase the number of iterations. Duality gap: 19955190.410871554, tolerance: 4999.975337769325\n",
      "  positive,\n",
      "/Users/vickyyounang/opt/anaconda3/lib/python3.7/site-packages/sklearn/linear_model/_coordinate_descent.py:644: UserWarning: Coordinate descent with alpha=0 may lead to unexpected results and is discouraged.\n",
      "  positive,\n",
      "/Users/vickyyounang/opt/anaconda3/lib/python3.7/site-packages/sklearn/linear_model/_coordinate_descent.py:644: UserWarning: Coordinate descent with alpha=0 may lead to unexpected results and is discouraged.\n",
      "  positive,\n",
      "/Users/vickyyounang/opt/anaconda3/lib/python3.7/site-packages/sklearn/linear_model/_coordinate_descent.py:644: ConvergenceWarning: Objective did not converge. You might want to increase the number of iterations. Duality gap: 19919327.987381868, tolerance: 4984.803522889399\n",
      "  positive,\n",
      "/Users/vickyyounang/opt/anaconda3/lib/python3.7/site-packages/sklearn/linear_model/_coordinate_descent.py:644: ConvergenceWarning: Objective did not converge. You might want to increase the number of iterations. Duality gap: 19952984.63062533, tolerance: 5001.31030062465\n",
      "  positive,\n",
      "/Users/vickyyounang/opt/anaconda3/lib/python3.7/site-packages/sklearn/linear_model/_coordinate_descent.py:644: UserWarning: Coordinate descent with alpha=0 may lead to unexpected results and is discouraged.\n",
      "  positive,\n",
      "/Users/vickyyounang/opt/anaconda3/lib/python3.7/site-packages/sklearn/linear_model/_coordinate_descent.py:644: UserWarning: Coordinate descent with alpha=0 may lead to unexpected results and is discouraged.\n",
      "  positive,\n",
      "/Users/vickyyounang/opt/anaconda3/lib/python3.7/site-packages/sklearn/linear_model/_coordinate_descent.py:644: ConvergenceWarning: Objective did not converge. You might want to increase the number of iterations. Duality gap: 19957213.641995735, tolerance: 4997.556728878684\n",
      "  positive,\n",
      "/Users/vickyyounang/opt/anaconda3/lib/python3.7/site-packages/sklearn/linear_model/_coordinate_descent.py:644: ConvergenceWarning: Objective did not converge. You might want to increase the number of iterations. Duality gap: 19949635.243000805, tolerance: 5002.099871001636\n",
      "  positive,\n",
      "/Users/vickyyounang/opt/anaconda3/lib/python3.7/site-packages/sklearn/linear_model/_coordinate_descent.py:644: UserWarning: Coordinate descent with alpha=0 may lead to unexpected results and is discouraged.\n",
      "  positive,\n",
      "/Users/vickyyounang/opt/anaconda3/lib/python3.7/site-packages/sklearn/linear_model/_coordinate_descent.py:644: UserWarning: Coordinate descent with alpha=0 may lead to unexpected results and is discouraged.\n",
      "  positive,\n",
      "/Users/vickyyounang/opt/anaconda3/lib/python3.7/site-packages/sklearn/linear_model/_coordinate_descent.py:644: ConvergenceWarning: Objective did not converge. You might want to increase the number of iterations. Duality gap: 19942880.161523182, tolerance: 4997.36002327296\n",
      "  positive,\n",
      "/Users/vickyyounang/opt/anaconda3/lib/python3.7/site-packages/sklearn/linear_model/_coordinate_descent.py:644: ConvergenceWarning: Objective did not converge. You might want to increase the number of iterations. Duality gap: 19948920.249884956, tolerance: 4995.40014878451\n",
      "  positive,\n",
      "/Users/vickyyounang/opt/anaconda3/lib/python3.7/site-packages/sklearn/linear_model/_coordinate_descent.py:644: UserWarning: Coordinate descent with alpha=0 may lead to unexpected results and is discouraged.\n",
      "  positive,\n",
      "/Users/vickyyounang/opt/anaconda3/lib/python3.7/site-packages/sklearn/linear_model/_coordinate_descent.py:644: ConvergenceWarning: Objective did not converge. You might want to increase the number of iterations. Duality gap: 19919741.302990817, tolerance: 4992.277992602496\n",
      "  positive,\n",
      "/Users/vickyyounang/opt/anaconda3/lib/python3.7/site-packages/sklearn/linear_model/_coordinate_descent.py:644: UserWarning: Coordinate descent with alpha=0 may lead to unexpected results and is discouraged.\n",
      "  positive,\n",
      "/Users/vickyyounang/opt/anaconda3/lib/python3.7/site-packages/sklearn/linear_model/_coordinate_descent.py:644: ConvergenceWarning: Objective did not converge. You might want to increase the number of iterations. Duality gap: 19893325.071365166, tolerance: 4985.063202805422\n",
      "  positive,\n"
     ]
    },
    {
     "name": "stderr",
     "output_type": "stream",
     "text": [
      "/Users/vickyyounang/opt/anaconda3/lib/python3.7/site-packages/sklearn/linear_model/_coordinate_descent.py:644: UserWarning: Coordinate descent with alpha=0 may lead to unexpected results and is discouraged.\n",
      "  positive,\n",
      "/Users/vickyyounang/opt/anaconda3/lib/python3.7/site-packages/sklearn/linear_model/_coordinate_descent.py:644: ConvergenceWarning: Objective did not converge. You might want to increase the number of iterations. Duality gap: 19965188.138392538, tolerance: 4999.583918953893\n",
      "  positive,\n",
      "/Users/vickyyounang/opt/anaconda3/lib/python3.7/site-packages/sklearn/linear_model/_coordinate_descent.py:644: UserWarning: Coordinate descent with alpha=0 may lead to unexpected results and is discouraged.\n",
      "  positive,\n",
      "/Users/vickyyounang/opt/anaconda3/lib/python3.7/site-packages/sklearn/linear_model/_coordinate_descent.py:644: ConvergenceWarning: Objective did not converge. You might want to increase the number of iterations. Duality gap: 19912561.082845308, tolerance: 4991.4685082502665\n",
      "  positive,\n",
      "/Users/vickyyounang/opt/anaconda3/lib/python3.7/site-packages/sklearn/linear_model/_coordinate_descent.py:644: UserWarning: Coordinate descent with alpha=0 may lead to unexpected results and is discouraged.\n",
      "  positive,\n",
      "/Users/vickyyounang/opt/anaconda3/lib/python3.7/site-packages/sklearn/linear_model/_coordinate_descent.py:644: ConvergenceWarning: Objective did not converge. You might want to increase the number of iterations. Duality gap: 19973487.11377518, tolerance: 5007.290332762252\n",
      "  positive,\n",
      "/Users/vickyyounang/opt/anaconda3/lib/python3.7/site-packages/sklearn/linear_model/_coordinate_descent.py:644: UserWarning: Coordinate descent with alpha=0 may lead to unexpected results and is discouraged.\n",
      "  positive,\n",
      "/Users/vickyyounang/opt/anaconda3/lib/python3.7/site-packages/sklearn/linear_model/_coordinate_descent.py:644: ConvergenceWarning: Objective did not converge. You might want to increase the number of iterations. Duality gap: 19921037.42316383, tolerance: 4988.599674982907\n",
      "  positive,\n",
      "/Users/vickyyounang/opt/anaconda3/lib/python3.7/site-packages/sklearn/linear_model/_coordinate_descent.py:644: UserWarning: Coordinate descent with alpha=0 may lead to unexpected results and is discouraged.\n",
      "  positive,\n",
      "/Users/vickyyounang/opt/anaconda3/lib/python3.7/site-packages/sklearn/linear_model/_coordinate_descent.py:644: UserWarning: Coordinate descent with alpha=0 may lead to unexpected results and is discouraged.\n",
      "  positive,\n",
      "/Users/vickyyounang/opt/anaconda3/lib/python3.7/site-packages/sklearn/linear_model/_coordinate_descent.py:644: ConvergenceWarning: Objective did not converge. You might want to increase the number of iterations. Duality gap: 19939927.86129093, tolerance: 5000.627492882897\n",
      "  positive,\n",
      "/Users/vickyyounang/opt/anaconda3/lib/python3.7/site-packages/sklearn/linear_model/_coordinate_descent.py:644: ConvergenceWarning: Objective did not converge. You might want to increase the number of iterations. Duality gap: 19927194.10221176, tolerance: 4990.520279781862\n",
      "  positive,\n",
      "/Users/vickyyounang/opt/anaconda3/lib/python3.7/site-packages/sklearn/linear_model/_coordinate_descent.py:644: UserWarning: Coordinate descent with alpha=0 may lead to unexpected results and is discouraged.\n",
      "  positive,\n",
      "/Users/vickyyounang/opt/anaconda3/lib/python3.7/site-packages/sklearn/linear_model/_coordinate_descent.py:644: ConvergenceWarning: Objective did not converge. You might want to increase the number of iterations. Duality gap: 19905896.896910578, tolerance: 4987.4084849197025\n",
      "  positive,\n",
      "/Users/vickyyounang/opt/anaconda3/lib/python3.7/site-packages/sklearn/linear_model/_coordinate_descent.py:644: UserWarning: Coordinate descent with alpha=0 may lead to unexpected results and is discouraged.\n",
      "  positive,\n",
      "/Users/vickyyounang/opt/anaconda3/lib/python3.7/site-packages/sklearn/linear_model/_coordinate_descent.py:644: ConvergenceWarning: Objective did not converge. You might want to increase the number of iterations. Duality gap: 19959841.694679335, tolerance: 4996.033900605449\n",
      "  positive,\n",
      "/Users/vickyyounang/opt/anaconda3/lib/python3.7/site-packages/sklearn/linear_model/_coordinate_descent.py:644: UserWarning: Coordinate descent with alpha=0 may lead to unexpected results and is discouraged.\n",
      "  positive,\n",
      "/Users/vickyyounang/opt/anaconda3/lib/python3.7/site-packages/sklearn/linear_model/_coordinate_descent.py:644: UserWarning: Coordinate descent with alpha=0 may lead to unexpected results and is discouraged.\n",
      "  positive,\n",
      "/Users/vickyyounang/opt/anaconda3/lib/python3.7/site-packages/sklearn/linear_model/_coordinate_descent.py:644: ConvergenceWarning: Objective did not converge. You might want to increase the number of iterations. Duality gap: 19920709.339143887, tolerance: 4991.902239655502\n",
      "  positive,\n",
      "/Users/vickyyounang/opt/anaconda3/lib/python3.7/site-packages/sklearn/linear_model/_coordinate_descent.py:644: ConvergenceWarning: Objective did not converge. You might want to increase the number of iterations. Duality gap: 19939218.566564806, tolerance: 4994.488716884099\n",
      "  positive,\n",
      "/Users/vickyyounang/opt/anaconda3/lib/python3.7/site-packages/sklearn/linear_model/_coordinate_descent.py:644: UserWarning: Coordinate descent with alpha=0 may lead to unexpected results and is discouraged.\n",
      "  positive,\n",
      "/Users/vickyyounang/opt/anaconda3/lib/python3.7/site-packages/sklearn/linear_model/_coordinate_descent.py:644: ConvergenceWarning: Objective did not converge. You might want to increase the number of iterations. Duality gap: 19942773.090168364, tolerance: 4993.405684525934\n",
      "  positive,\n",
      "/Users/vickyyounang/opt/anaconda3/lib/python3.7/site-packages/sklearn/linear_model/_coordinate_descent.py:644: UserWarning: Coordinate descent with alpha=0 may lead to unexpected results and is discouraged.\n",
      "  positive,\n",
      "/Users/vickyyounang/opt/anaconda3/lib/python3.7/site-packages/sklearn/linear_model/_coordinate_descent.py:644: ConvergenceWarning: Objective did not converge. You might want to increase the number of iterations. Duality gap: 19931848.059265964, tolerance: 4996.644693877487\n",
      "  positive,\n",
      "/Users/vickyyounang/opt/anaconda3/lib/python3.7/site-packages/sklearn/linear_model/_coordinate_descent.py:1715: UserWarning: With alpha=0, this algorithm does not converge well. You are advised to use the LinearRegression estimator\n",
      "  model.fit(X, y)\n",
      "/Users/vickyyounang/opt/anaconda3/lib/python3.7/site-packages/sklearn/linear_model/_coordinate_descent.py:648: UserWarning: Coordinate descent with no regularization may lead to unexpected results and is discouraged.\n",
      "  coef_, l1_reg, l2_reg, X, y, max_iter, tol, rng, random, positive\n",
      "/Users/vickyyounang/opt/anaconda3/lib/python3.7/site-packages/sklearn/linear_model/_coordinate_descent.py:648: ConvergenceWarning: Objective did not converge. You might want to increase the number of iterations, check the scale of the features or consider increasing regularisation. Duality gap: 2.215e+07, tolerance: 5.550e+03 Linear regression models with null weight for the l1 regularization term are more efficiently fitted using one of the solvers implemented in sklearn.linear_model.Ridge/RidgeCV instead.\n",
      "  coef_, l1_reg, l2_reg, X, y, max_iter, tol, rng, random, positive\n"
     ]
    },
    {
     "data": {
      "text/plain": [
       "LassoCV(alphas=array([0.   , 0.001, 0.002, 0.003, 0.004, 0.005, 0.006, 0.007, 0.008,\n",
       "       0.009, 0.01 , 0.011, 0.012, 0.013, 0.014, 0.015, 0.016, 0.017,\n",
       "       0.018, 0.019, 0.02 , 0.021, 0.022, 0.023, 0.024, 0.025, 0.026,\n",
       "       0.027, 0.028, 0.029, 0.03 , 0.031, 0.032, 0.033, 0.034, 0.035,\n",
       "       0.036, 0.037, 0.038, 0.039, 0.04 , 0.041, 0.042, 0.043, 0.044,\n",
       "       0.045, 0.046, 0.047, 0.048, 0.049, 0.05 , 0.051, 0.052, 0.053,\n",
       "       0.054, 0.055,...\n",
       "       0.954, 0.955, 0.956, 0.957, 0.958, 0.959, 0.96 , 0.961, 0.962,\n",
       "       0.963, 0.964, 0.965, 0.966, 0.967, 0.968, 0.969, 0.97 , 0.971,\n",
       "       0.972, 0.973, 0.974, 0.975, 0.976, 0.977, 0.978, 0.979, 0.98 ,\n",
       "       0.981, 0.982, 0.983, 0.984, 0.985, 0.986, 0.987, 0.988, 0.989,\n",
       "       0.99 , 0.991, 0.992, 0.993, 0.994, 0.995, 0.996, 0.997, 0.998,\n",
       "       0.999]),\n",
       "        cv=RepeatedKFold(n_repeats=5, n_splits=10, random_state=None),\n",
       "        max_iter=2000, n_jobs=-1)"
      ]
     },
     "execution_count": 63,
     "metadata": {},
     "output_type": "execute_result"
    }
   ],
   "source": [
    "# tuning hyperparameters: as we don't know wha value of alpha will produce a better result, \n",
    "# we can use either a manual search of alpha with the gridSearch method or automatic with lassoCV; we will use lassoCV \n",
    "# \n",
    "# use automatically configured the lasso regression algorithm\n",
    "from numpy import arange\n",
    "from pandas import read_csv\n",
    "from sklearn.linear_model import LassoCV\n",
    "from sklearn.model_selection import RepeatedKFold\n",
    "from sklearn.model_selection import cross_val_score\n",
    "\n",
    "# load the dataset\n",
    "#url = 'https://raw.githubusercontent.com/jbrownlee/Datasets/master/housing.csv'\n",
    "#dataframe = read_csv(url, header=None)\n",
    "#data = dataframe.values\n",
    "#X, y = data[:, :-1], data[:, -1]\n",
    "# define model evaluation method\n",
    "cv = RepeatedKFold(n_splits=10, n_repeats=5)\n",
    "# define model\n",
    "model = LassoCV(alphas=arange(0, 1, 0.001),max_iter=2000, cv=cv, n_jobs=-1)\n",
    "# fit model\n",
    "model.fit(X_train, y_train)\n",
    "\n",
    "#scores = cross_val_score(model, X_train, y_train, scoring='neg_mean_absolute_error', cv=cv, n_jobs=-1)\n",
    "# force scores to be positive\n"
   ]
  },
  {
   "cell_type": "code",
   "execution_count": 64,
   "metadata": {},
   "outputs": [
    {
     "data": {
      "text/plain": [
       "0.2016860382392447"
      ]
     },
     "execution_count": 64,
     "metadata": {},
     "output_type": "execute_result"
    }
   ],
   "source": [
    "#(model.mse_path_)\n",
    "model.score(X_train, y_train)"
   ]
  },
  {
   "cell_type": "code",
   "execution_count": 65,
   "metadata": {},
   "outputs": [
    {
     "name": "stdout",
     "output_type": "stream",
     "text": [
      "alpha: 0.000000\n"
     ]
    }
   ],
   "source": [
    "# summarize chosen configuration\n",
    "print('alpha: %f' % model.alpha_)"
   ]
  },
  {
   "cell_type": "code",
   "execution_count": 72,
   "metadata": {},
   "outputs": [],
   "source": []
  },
  {
   "cell_type": "code",
   "execution_count": 73,
   "metadata": {},
   "outputs": [
    {
     "data": {
      "text/plain": [
       "0.4554803921568627"
      ]
     },
     "execution_count": 73,
     "metadata": {},
     "output_type": "execute_result"
    }
   ],
   "source": [
    "mean(arr)"
   ]
  },
  {
   "cell_type": "code",
   "execution_count": 67,
   "metadata": {},
   "outputs": [
    {
     "name": "stdout",
     "output_type": "stream",
     "text": [
      "Predicted:\n",
      "[74.26038252 80.69880616 77.6364775  ... 75.88297485 79.22082139\n",
      " 76.87011449]\n"
     ]
    }
   ],
   "source": [
    "# make prediction on the test set\n",
    "# make a prediction\n",
    "yhat = model.predict(X_test)\n",
    "# summarize prediction\n",
    "print('Predicted:')\n",
    "print(yhat)\n",
    "\n",
    "# compute the error of the test set"
   ]
  },
  {
   "cell_type": "code",
   "execution_count": 74,
   "metadata": {},
   "outputs": [
    {
     "name": "stdout",
     "output_type": "stream",
     "text": [
      "Mean squared error: 94.68\n",
      "Variance score: 0.20\n"
     ]
    }
   ],
   "source": [
    "# Predicting the Test set results\n",
    "#print('Coefficients: \\n', model.coef_ )\n",
    "# The mean squared error\n",
    "print(\"Mean squared error: %.2f\" % np.mean((model.predict(X_test) - y_test) ** 2))\n",
    "# Explained variance score: 1 is perfect prediction\n",
    "print('Variance score: %.2f' % model.score(X_test, y_test))"
   ]
  },
  {
   "cell_type": "code",
   "execution_count": null,
   "metadata": {},
   "outputs": [],
   "source": []
  },
  {
   "cell_type": "code",
   "execution_count": 75,
   "metadata": {},
   "outputs": [
    {
     "name": "stdout",
     "output_type": "stream",
     "text": [
      "Mean squared error: 95.54\n",
      "Variance score: 0.20\n"
     ]
    }
   ],
   "source": [
    "\n",
    "print(\"Mean squared error: %.2f\" % np.mean((model.predict(X_train) - y_train) ** 2))\n",
    "print('Variance score: %.2f' % model.score(X_train, y_train))"
   ]
  },
  {
   "cell_type": "code",
   "execution_count": null,
   "metadata": {},
   "outputs": [],
   "source": []
  },
  {
   "cell_type": "code",
   "execution_count": 13,
   "metadata": {},
   "outputs": [],
   "source": [
    "# doing the polynomial ridge regression:\n",
    "# we will do the ridge regression with polynomial features and CV\n",
    "\n",
    "import tensorflow as tf\n",
    "from sklearn.model_selection import train_test_split\n",
    "from sklearn.linear_model import LinearRegression,Ridge\n",
    "from sklearn.preprocessing import PolynomialFeatures\n",
    "from sklearn.metrics import r2_score,mean_squared_error\n",
    "\n",
    "from sklearn.model_selection import KFold\n"
   ]
  },
  {
   "cell_type": "code",
   "execution_count": 13,
   "metadata": {},
   "outputs": [],
   "source": [
    "# changing the dataframe into dataframe of different degrees\n",
    "def poly_features(df,deg):\n",
    "    df_poly = df.copy()\n",
    "    if(len(df_poly.shape)==1):\n",
    "        df_poly=np.array(df_poly).reshape(-1,1)\n",
    "    if(len(df)==1):\n",
    "        df_poly=np.array(df_poly).reshape(1,-1)\n",
    "    poly = PolynomialFeatures(deg)\n",
    "    df_poly=poly.fit_transform(df_poly)\n",
    "    return(df_poly)\n"
   ]
  },
  {
   "cell_type": "code",
   "execution_count": 18,
   "metadata": {},
   "outputs": [],
   "source": [
    "# CV\n",
    "def kfold(df,deg,l2_val,y):\n",
    "    df=poly_features(df,deg)\n",
    "    folds=KFold(10)\n",
    "    \n",
    "    l2_penalty_mse=[]\n",
    "    min_mse=None\n",
    "    best_l2=None\n",
    "    best_model=None\n",
    "    for l2 in l2_val:\n",
    "        mse=0\n",
    "        for train,test in folds.split(df):\n",
    "            rid=Ridge(l2)\n",
    "            rid_model=rid.fit(df[train],y[train])\n",
    "            y_pred_rid=rid_model.predict(df[test])\n",
    "            mse+=np.sum((y[test]-y_pred_rid)**2)\n",
    "            \n",
    "        mse/=len(df)\n",
    "        l2_penalty_mse.append(mse)\n",
    "        if(min_mse==None or mse < min_mse):\n",
    "            min_mse=mse\n",
    "            best_l2=l2\n",
    "            best_model=rid_model\n",
    "    return(l2_penalty_mse,best_l2,best_model)\n"
   ]
  },
  {
   "cell_type": "code",
   "execution_count": null,
   "metadata": {},
   "outputs": [],
   "source": []
  },
  {
   "cell_type": "code",
   "execution_count": 19,
   "metadata": {},
   "outputs": [
    {
     "data": {
      "text/plain": [
       "array([1.00000000e-04, 3.59381366e-03, 1.29154967e-01, 4.64158883e+00,\n",
       "       1.66810054e+02, 5.99484250e+03, 2.15443469e+05, 7.74263683e+06,\n",
       "       2.78255940e+08, 1.00000000e+10])"
      ]
     },
     "execution_count": 19,
     "metadata": {},
     "output_type": "execute_result"
    }
   ],
   "source": [
    "# different penalities to apply\n",
    "val=np.logspace(-4,10,num=10)\n",
    "val\n"
   ]
  },
  {
   "cell_type": "code",
   "execution_count": 20,
   "metadata": {},
   "outputs": [],
   "source": [
    "# we will try different polynomial degrees from 4 to 16\n",
    "grees = np.array([2,4,8,10,16])"
   ]
  },
  {
   "cell_type": "code",
   "execution_count": null,
   "metadata": {},
   "outputs": [],
   "source": [
    "l2_vals=[]\n",
    "bests_l2=[]\n",
    "best_models=[]\n",
    "\n",
    "for deg in grees :\n",
    "    l2_val,best_l2,best_model=kfold( X_train ,deg,val, y_train)\n",
    "    l2_vals.append(l2_val)\n",
    "    bests_l2.appen(best_l2)\n",
    "    best_models.append(best_model)\n",
    "\n"
   ]
  },
  {
   "cell_type": "code",
   "execution_count": 81,
   "metadata": {},
   "outputs": [
    {
     "data": {
      "text/plain": [
       "pandas.core.frame.DataFrame"
      ]
     },
     "execution_count": 81,
     "metadata": {},
     "output_type": "execute_result"
    }
   ],
   "source": []
  },
  {
   "cell_type": "code",
   "execution_count": null,
   "metadata": {},
   "outputs": [],
   "source": [
    "plt.plot(val,l2_vals,'k-')\n",
    "plt.xlabel('$\\ell_2$ penalty')\n",
    "plt.ylabel('cross  val error')\n",
    "plt.xscale('log')\n",
    "plt.yscale('log')"
   ]
  },
  {
   "cell_type": "code",
   "execution_count": 1,
   "metadata": {},
   "outputs": [
    {
     "name": "stdout",
     "output_type": "stream",
     "text": [
      "2.7.0\n"
     ]
    }
   ],
   "source": [
    "\n",
    "print(tf.__version__)"
   ]
  },
  {
   "cell_type": "markdown",
   "metadata": {},
   "source": [
    "#### MLP method"
   ]
  },
  {
   "cell_type": "code",
   "execution_count": 27,
   "metadata": {},
   "outputs": [],
   "source": [
    "## CASE3: usage of neural networks\n",
    "import tensorflow as tf\n",
    "from keras.models import Sequential\n",
    "#from keras.layers.core import Dense, Dropout\n",
    "from keras.layers import Dense, Activation, Flatten\n",
    "from keras.models import load_model\n",
    "from keras.regularizers import l2\n",
    "from keras.utils import np_utils\n",
    "\n",
    "# we will train the network with all the features at first\n",
    "\n",
    "# we will first go with a simple neural network of one input layer (90 or 75(features selection) neurons), one hidden layer and one output layer (90-100 neurons)\n",
    "# for the hidden layer, we will put 100 neurons by choice\n",
    "\n",
    "model_nn = Sequential()\n",
    "model_nn.add(Dense(45, input_shape=(90,)))\n",
    "model_nn.add(Dense(90,  activation='softmax'))\n",
    "#model_nn.add(Flatten())\n",
    "\n",
    "#compiling the model\n",
    "model_nn.compile(loss='categorical_crossentropy', optimizer='adam', metrics=['accuracy'])\n"
   ]
  },
  {
   "cell_type": "code",
   "execution_count": 18,
   "metadata": {},
   "outputs": [
    {
     "data": {
      "text/plain": [
       "(51630,)"
      ]
     },
     "execution_count": 18,
     "metadata": {},
     "output_type": "execute_result"
    }
   ],
   "source": [
    "# Training the model\n",
    "# with all features\n",
    "X_train = data_nrm.iloc[:,:-1][0:463715].to_numpy()\n",
    "y_train = data_nrm[\"year\"][0:463715].to_numpy()\n",
    "\n",
    "# Validation data set\n",
    "X_test = data_nrm.iloc[:,:-1][463715:].to_numpy()\n",
    "y_test = data_nrm[\"year\"][463715:].to_numpy()\n",
    "y_test.shape \n",
    "    \n",
    "# trainning is done"
   ]
  },
  {
   "cell_type": "code",
   "execution_count": 29,
   "metadata": {},
   "outputs": [
    {
     "data": {
      "text/plain": [
       "array([[0., 0., 0., ..., 0., 0., 0.],\n",
       "       [0., 0., 0., ..., 0., 0., 0.],\n",
       "       [0., 0., 0., ..., 0., 0., 0.],\n",
       "       ...,\n",
       "       [0., 0., 0., ..., 0., 0., 0.],\n",
       "       [0., 0., 0., ..., 0., 0., 0.],\n",
       "       [0., 0., 0., ..., 0., 0., 0.]], dtype=float32)"
      ]
     },
     "execution_count": 29,
     "metadata": {},
     "output_type": "execute_result"
    }
   ],
   "source": [
    "# because keras does not work with integer classes, we will change them to categorical type\n",
    "Y_train = np_utils.to_categorical(y_train, nb_classes)\n",
    "Y_test = np_utils.to_categorical(y_test, nb_classes)\n",
    "Y_train"
   ]
  },
  {
   "cell_type": "code",
   "execution_count": 30,
   "metadata": {},
   "outputs": [],
   "source": [
    "# Our vectorized labels\n",
    "#y_train = np.asarray(y_train).astype('float32').reshape((-1,1))\n",
    "#y_test = np.asarray(y_test).astype('float32').reshape((-1,1))"
   ]
  },
  {
   "cell_type": "code",
   "execution_count": 51,
   "metadata": {},
   "outputs": [],
   "source": [
    "def show_scores(model, h):\n",
    "    loss, acc = model.evaluate(X_train, Y_train, verbose=0)\n",
    "    print (\"Training: accuracy   = %.6f loss = %.6f\" % (acc, loss))\n",
    "    loss, acc = model.evaluate(X_test, Y_test, verbose=0)\n",
    "    print (\"Validation: accuracy = %.6f loss = %.6f\" % (acc, loss))\n",
    "    #print (\"Over fitting score   = %.6f\" % over_fitting_score(h))\n",
    "    #print (\"Under fitting score  = %.6f\" % under_fitting_score(h))\n",
    "    \n",
    "    plt.show(len(h.history['accuracy']),h.history['accuracy'] )\n",
    "\n",
    "    plt.show(len(h.history['loss']),h.history['loss'])"
   ]
  },
  {
   "cell_type": "code",
   "execution_count": null,
   "metadata": {},
   "outputs": [],
   "source": []
  },
  {
   "cell_type": "code",
   "execution_count": 32,
   "metadata": {},
   "outputs": [],
   "source": [
    "acc_thresh = 0.90"
   ]
  },
  {
   "cell_type": "code",
   "execution_count": 33,
   "metadata": {},
   "outputs": [],
   "source": [
    "class myCallback(tf.keras.callbacks.Callback): \n",
    "    def on_epoch_end(self, epoch, logs={}): \n",
    "        if (epoch % 100 ==0 ):\n",
    "            print(\"epoch : \", epoch)\n",
    "            print(logs)\n",
    "        if(logs.get('accuracy') > acc_thresh):   \n",
    "            print(\"\\nWe have reached %2.2f%% accuracy, so we will stopping training.\" %(acc_thresh*100))   \n",
    "            self.model.stop_training = True"
   ]
  },
  {
   "cell_type": "code",
   "execution_count": null,
   "metadata": {},
   "outputs": [],
   "source": []
  },
  {
   "cell_type": "code",
   "execution_count": 34,
   "metadata": {},
   "outputs": [
    {
     "name": "stdout",
     "output_type": "stream",
     "text": [
      "<class '__main__.myCallback'>\n",
      "Model: \"sequential_2\"\n",
      "_________________________________________________________________\n",
      " Layer (type)                Output Shape              Param #   \n",
      "=================================================================\n",
      " dense_4 (Dense)             (None, 45)                4095      \n",
      "                                                                 \n",
      " dense_5 (Dense)             (None, 90)                4140      \n",
      "                                                                 \n",
      "=================================================================\n",
      "Total params: 8,235\n",
      "Trainable params: 8,235\n",
      "Non-trainable params: 0\n",
      "_________________________________________________________________\n",
      "None\n",
      "epoch :  0\n",
      "{'loss': 3.4542651176452637, 'accuracy': 0.07345675677061081, 'val_loss': 3.4408626556396484, 'val_accuracy': 0.06809993833303452}\n",
      "epoch :  100\n",
      "{'loss': 3.3747177124023438, 'accuracy': 0.07739236205816269, 'val_loss': 3.3664450645446777, 'val_accuracy': 0.07609916478395462}\n",
      "epoch :  200\n",
      "{'loss': 3.3617396354675293, 'accuracy': 0.07745705544948578, 'val_loss': 3.3806493282318115, 'val_accuracy': 0.07770676165819168}\n",
      "epoch :  300\n",
      "{'loss': 3.3534646034240723, 'accuracy': 0.07779563218355179, 'val_loss': 3.3512792587280273, 'val_accuracy': 0.07635095715522766}\n",
      "epoch :  400\n",
      "{'loss': 3.3494882583618164, 'accuracy': 0.0777093693614006, 'val_loss': 3.3475005626678467, 'val_accuracy': 0.07549873739480972}\n",
      "epoch :  500\n",
      "{'loss': 3.344987154006958, 'accuracy': 0.07763389497995377, 'val_loss': 3.3369743824005127, 'val_accuracy': 0.07813286781311035}\n",
      "epoch :  600\n",
      "{'loss': 3.342643976211548, 'accuracy': 0.07796598970890045, 'val_loss': 3.3375136852264404, 'val_accuracy': 0.07681580632925034}\n",
      "epoch :  700\n",
      "{'loss': 3.3400847911834717, 'accuracy': 0.07809107005596161, 'val_loss': 3.3384687900543213, 'val_accuracy': 0.07757117599248886}\n",
      "epoch :  800\n",
      "{'loss': 3.3366620540618896, 'accuracy': 0.07786679267883301, 'val_loss': 3.3449132442474365, 'val_accuracy': 0.07505326718091965}\n",
      "epoch :  900\n",
      "{'loss': 3.334782361984253, 'accuracy': 0.07836278527975082, 'val_loss': 3.329749345779419, 'val_accuracy': 0.07580863684415817}\n"
     ]
    }
   ],
   "source": [
    "from kerutils import *\n",
    "from CodeMonitor.telegram import FitMonitor\n",
    "\n",
    "mcallbacks = myCallback()\n",
    "print (type(mcallbacks))\n",
    "print(model_nn.summary())\n",
    "#save_model_summary(model_NN, \"model_nn_summary.txt\")\n",
    "#write_file(\"model_nn.json\", model_nn.to_json())\n",
    "#fmon = FitMonitor(thresh=0.09, minacc=0.999, filename=\"model_nn.h5\")\n",
    "\n",
    "h = model_nn.fit(\n",
    "    X_train,\n",
    "    Y_train,\n",
    "    batch_size=128,\n",
    "    epochs=1000,\n",
    "    verbose=0,\n",
    "    shuffle=True,\n",
    "    validation_data=(X_test, Y_test),\n",
    "    validation_batch_size=100,\n",
    "    callbacks = [mcallbacks]\n",
    ")\n"
   ]
  },
  {
   "cell_type": "code",
   "execution_count": 53,
   "metadata": {},
   "outputs": [
    {
     "name": "stdout",
     "output_type": "stream",
     "text": [
      "Training: accuracy   = 0.078350 loss = 3.336876\n",
      "Validation: accuracy = 0.075944 loss = 3.338929\n"
     ]
    }
   ],
   "source": [
    "#for input neurons  =90, hidden =90\n",
    "show_scores(model_nn, h)"
   ]
  },
  {
   "cell_type": "markdown",
   "metadata": {},
   "source": [
    "#### Trying Ensemble methods for regression\n",
    "we will be using GradientBoostingRegressor"
   ]
  },
  {
   "cell_type": "code",
   "execution_count": 14,
   "metadata": {},
   "outputs": [],
   "source": [
    "from sklearn.metrics import mean_squared_error\n",
    "from sklearn.ensemble import GradientBoostingRegressor"
   ]
  },
  {
   "cell_type": "code",
   "execution_count": 20,
   "metadata": {},
   "outputs": [],
   "source": [
    "# with all features\n",
    "X_train = data_nrm.iloc[:,:-1][0:463715].to_numpy()\n",
    "y_train = data_nrm[\"year\"][0:463715].to_numpy()\n",
    "\n",
    "# Validation data set\n",
    "X_test = data_nrm.iloc[:,:-1][463715:].to_numpy()\n",
    "y_test = data_nrm[\"year\"][463715:].to_numpy()\n",
    "\n",
    "est = GradientBoostingRegressor(n_estimators=500, learning_rate=0.1, max_depth=1, random_state=0, loss='squared_error'\n",
    "                                 ).fit(X_train, y_train)\n",
    "mean_squared_error(y_test, est.predict(X_test))\n"
   ]
  },
  {
   "cell_type": "code",
   "execution_count": null,
   "metadata": {},
   "outputs": [],
   "source": []
  },
  {
   "cell_type": "code",
   "execution_count": 54,
   "metadata": {},
   "outputs": [
    {
     "data": {
      "text/plain": [
       "0.1097377450052538"
      ]
     },
     "execution_count": 54,
     "metadata": {},
     "output_type": "execute_result"
    }
   ],
   "source": [
    "# looking at the training accuracy:\n",
    "est.score(X_test, y_test)\n"
   ]
  },
  {
   "cell_type": "code",
   "execution_count": 55,
   "metadata": {},
   "outputs": [
    {
     "data": {
      "text/plain": [
       "0.11184596455865992"
      ]
     },
     "execution_count": 55,
     "metadata": {},
     "output_type": "execute_result"
    }
   ],
   "source": [
    "# looking at the testing accuracy:\n",
    "est.score(X_train, y_train)"
   ]
  },
  {
   "cell_type": "code",
   "execution_count": 15,
   "metadata": {},
   "outputs": [],
   "source": [
    "# tuning parameters, trying different learning rates and max_depth\n",
    "\n",
    "def reg_gd(ne,lr, md,X_train,y_train):\n",
    "    \n",
    "    model = GradientBoostingRegressor(n_estimators=ne, learning_rate=lr, max_depth=md, random_state=5, loss='squared_error'\n",
    "                                 )\n",
    "    \n",
    "    model.fit(X_train,y_train)\n",
    "    \n",
    "    return model\n",
    "    \n",
    "\n"
   ]
  },
  {
   "cell_type": "code",
   "execution_count": 16,
   "metadata": {},
   "outputs": [],
   "source": [
    "lrs = [0.01]\n",
    "mds = [5]\n",
    "ne = 500\n"
   ]
  },
  {
   "cell_type": "code",
   "execution_count": null,
   "metadata": {},
   "outputs": [],
   "source": [
    "scores_train = []\n",
    "mses_train = []\n",
    "mses_test = []\n",
    "scores_test = []\n",
    "values = []\n",
    "\n",
    "#for lr in lrs:\n",
    " #   for md in mds:\n",
    "model = reg_gd(500,lr=0.01,md=5, X_train=X_train, y_train=y_train)\n",
    "\n",
    "values.append((lr,md))\n",
    "\n",
    "scores_train.append(model.score(X_train,y_train))\n",
    "scores_test.append(model.score(X_test,y_test))\n",
    "\n",
    "y_pred_test = model.predict(X_test)\n",
    "y_pred_train  = model.predict(X_train)\n",
    "\n",
    "mses_train.append(mean_squared_error(y_train, y_pred_train))\n",
    "mses_test.append(mean_squared_error(y_test, y_pred_test))\n",
    "        \n",
    "        \n",
    "        \n",
    "\n"
   ]
  },
  {
   "cell_type": "code",
   "execution_count": null,
   "metadata": {},
   "outputs": [],
   "source": [
    "print(mses_train)\n",
    "print(mses_test)"
   ]
  },
  {
   "cell_type": "code",
   "execution_count": null,
   "metadata": {},
   "outputs": [],
   "source": [
    "print(scores_train)\n",
    "print(scores_test)"
   ]
  },
  {
   "cell_type": "code",
   "execution_count": null,
   "metadata": {},
   "outputs": [],
   "source": [
    "print(values)"
   ]
  },
  {
   "cell_type": "code",
   "execution_count": null,
   "metadata": {},
   "outputs": [],
   "source": []
  },
  {
   "cell_type": "code",
   "execution_count": null,
   "metadata": {},
   "outputs": [],
   "source": []
  },
  {
   "cell_type": "code",
   "execution_count": null,
   "metadata": {},
   "outputs": [],
   "source": []
  },
  {
   "cell_type": "markdown",
   "metadata": {},
   "source": [
    "source:\n",
    "https://databricks-prod-cloudfront.cloud.databricks.com/public/4027ec902e239c93eaaa8714f173bcfc/3175648861028866/3427136292952836/657465297935335/latest.html\n",
    "https://github.com/prakhardogra921/Year-Prediction-using-Regression\n",
    "https://samyzaf.com/ML/song_year/song_year.html\n",
    "https://machinelearningmastery.com/feature-selection-with-real-and-categorical-data/\n",
    "\n",
    "https://databricks-prod-cloudfront.cloud.databricks.com/public/4027ec902e239c93eaaa8714f173bcfc/3175648861028866/3427136292952836/657465297935335/latest.html\n",
    "\n",
    "https://towardsdatascience.com/5-smote-techniques-for-oversampling-your-imbalance-data-b8155bdbe2b5\n",
    "https://machinelearningmastery.com/lasso-regression-with-python/\n",
    "\n",
    "https://medium.com/@sidharths758/polynomial-regression-overfitting-and-ridge-regression-an-overview-70de53f0ccab\n"
   ]
  },
  {
   "cell_type": "code",
   "execution_count": null,
   "metadata": {},
   "outputs": [],
   "source": []
  }
 ],
 "metadata": {
  "kernelspec": {
   "display_name": "Python 3",
   "language": "python",
   "name": "python3"
  },
  "language_info": {
   "codemirror_mode": {
    "name": "ipython",
    "version": 3
   },
   "file_extension": ".py",
   "mimetype": "text/x-python",
   "name": "python",
   "nbconvert_exporter": "python",
   "pygments_lexer": "ipython3",
   "version": "3.7.4"
  }
 },
 "nbformat": 4,
 "nbformat_minor": 2
}
